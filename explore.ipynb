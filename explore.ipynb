{
 "cells": [
  {
   "cell_type": "code",
   "execution_count": 1,
   "metadata": {},
   "outputs": [],
   "source": [
    "import pandas as pd\n",
    "import matplotlib.pyplot as plt\n",
    "import numpy as np\n",
    "import colorcet as cc"
   ]
  },
  {
   "cell_type": "code",
   "execution_count": 2,
   "metadata": {},
   "outputs": [
    {
     "data": {
      "text/html": [
       "\n",
       "    <div class=\"bk-root\">\n",
       "        <a href=\"https://bokeh.org\" target=\"_blank\" class=\"bk-logo bk-logo-small bk-logo-notebook\"></a>\n",
       "        <span id=\"1001\">Loading BokehJS ...</span>\n",
       "    </div>"
      ]
     },
     "metadata": {},
     "output_type": "display_data"
    },
    {
     "data": {
      "application/javascript": [
       "\n",
       "(function(root) {\n",
       "  function now() {\n",
       "    return new Date();\n",
       "  }\n",
       "\n",
       "  var force = true;\n",
       "\n",
       "  if (typeof root._bokeh_onload_callbacks === \"undefined\" || force === true) {\n",
       "    root._bokeh_onload_callbacks = [];\n",
       "    root._bokeh_is_loading = undefined;\n",
       "  }\n",
       "\n",
       "  var JS_MIME_TYPE = 'application/javascript';\n",
       "  var HTML_MIME_TYPE = 'text/html';\n",
       "  var EXEC_MIME_TYPE = 'application/vnd.bokehjs_exec.v0+json';\n",
       "  var CLASS_NAME = 'output_bokeh rendered_html';\n",
       "\n",
       "  /**\n",
       "   * Render data to the DOM node\n",
       "   */\n",
       "  function render(props, node) {\n",
       "    var script = document.createElement(\"script\");\n",
       "    node.appendChild(script);\n",
       "  }\n",
       "\n",
       "  /**\n",
       "   * Handle when an output is cleared or removed\n",
       "   */\n",
       "  function handleClearOutput(event, handle) {\n",
       "    var cell = handle.cell;\n",
       "\n",
       "    var id = cell.output_area._bokeh_element_id;\n",
       "    var server_id = cell.output_area._bokeh_server_id;\n",
       "    // Clean up Bokeh references\n",
       "    if (id != null && id in Bokeh.index) {\n",
       "      Bokeh.index[id].model.document.clear();\n",
       "      delete Bokeh.index[id];\n",
       "    }\n",
       "\n",
       "    if (server_id !== undefined) {\n",
       "      // Clean up Bokeh references\n",
       "      var cmd = \"from bokeh.io.state import curstate; print(curstate().uuid_to_server['\" + server_id + \"'].get_sessions()[0].document.roots[0]._id)\";\n",
       "      cell.notebook.kernel.execute(cmd, {\n",
       "        iopub: {\n",
       "          output: function(msg) {\n",
       "            var id = msg.content.text.trim();\n",
       "            if (id in Bokeh.index) {\n",
       "              Bokeh.index[id].model.document.clear();\n",
       "              delete Bokeh.index[id];\n",
       "            }\n",
       "          }\n",
       "        }\n",
       "      });\n",
       "      // Destroy server and session\n",
       "      var cmd = \"import bokeh.io.notebook as ion; ion.destroy_server('\" + server_id + \"')\";\n",
       "      cell.notebook.kernel.execute(cmd);\n",
       "    }\n",
       "  }\n",
       "\n",
       "  /**\n",
       "   * Handle when a new output is added\n",
       "   */\n",
       "  function handleAddOutput(event, handle) {\n",
       "    var output_area = handle.output_area;\n",
       "    var output = handle.output;\n",
       "\n",
       "    // limit handleAddOutput to display_data with EXEC_MIME_TYPE content only\n",
       "    if ((output.output_type != \"display_data\") || (!output.data.hasOwnProperty(EXEC_MIME_TYPE))) {\n",
       "      return\n",
       "    }\n",
       "\n",
       "    var toinsert = output_area.element.find(\".\" + CLASS_NAME.split(' ')[0]);\n",
       "\n",
       "    if (output.metadata[EXEC_MIME_TYPE][\"id\"] !== undefined) {\n",
       "      toinsert[toinsert.length - 1].firstChild.textContent = output.data[JS_MIME_TYPE];\n",
       "      // store reference to embed id on output_area\n",
       "      output_area._bokeh_element_id = output.metadata[EXEC_MIME_TYPE][\"id\"];\n",
       "    }\n",
       "    if (output.metadata[EXEC_MIME_TYPE][\"server_id\"] !== undefined) {\n",
       "      var bk_div = document.createElement(\"div\");\n",
       "      bk_div.innerHTML = output.data[HTML_MIME_TYPE];\n",
       "      var script_attrs = bk_div.children[0].attributes;\n",
       "      for (var i = 0; i < script_attrs.length; i++) {\n",
       "        toinsert[toinsert.length - 1].firstChild.setAttribute(script_attrs[i].name, script_attrs[i].value);\n",
       "        toinsert[toinsert.length - 1].firstChild.textContent = bk_div.children[0].textContent\n",
       "      }\n",
       "      // store reference to server id on output_area\n",
       "      output_area._bokeh_server_id = output.metadata[EXEC_MIME_TYPE][\"server_id\"];\n",
       "    }\n",
       "  }\n",
       "\n",
       "  function register_renderer(events, OutputArea) {\n",
       "\n",
       "    function append_mime(data, metadata, element) {\n",
       "      // create a DOM node to render to\n",
       "      var toinsert = this.create_output_subarea(\n",
       "        metadata,\n",
       "        CLASS_NAME,\n",
       "        EXEC_MIME_TYPE\n",
       "      );\n",
       "      this.keyboard_manager.register_events(toinsert);\n",
       "      // Render to node\n",
       "      var props = {data: data, metadata: metadata[EXEC_MIME_TYPE]};\n",
       "      render(props, toinsert[toinsert.length - 1]);\n",
       "      element.append(toinsert);\n",
       "      return toinsert\n",
       "    }\n",
       "\n",
       "    /* Handle when an output is cleared or removed */\n",
       "    events.on('clear_output.CodeCell', handleClearOutput);\n",
       "    events.on('delete.Cell', handleClearOutput);\n",
       "\n",
       "    /* Handle when a new output is added */\n",
       "    events.on('output_added.OutputArea', handleAddOutput);\n",
       "\n",
       "    /**\n",
       "     * Register the mime type and append_mime function with output_area\n",
       "     */\n",
       "    OutputArea.prototype.register_mime_type(EXEC_MIME_TYPE, append_mime, {\n",
       "      /* Is output safe? */\n",
       "      safe: true,\n",
       "      /* Index of renderer in `output_area.display_order` */\n",
       "      index: 0\n",
       "    });\n",
       "  }\n",
       "\n",
       "  // register the mime type if in Jupyter Notebook environment and previously unregistered\n",
       "  if (root.Jupyter !== undefined) {\n",
       "    var events = require('base/js/events');\n",
       "    var OutputArea = require('notebook/js/outputarea').OutputArea;\n",
       "\n",
       "    if (OutputArea.prototype.mime_types().indexOf(EXEC_MIME_TYPE) == -1) {\n",
       "      register_renderer(events, OutputArea);\n",
       "    }\n",
       "  }\n",
       "\n",
       "  \n",
       "  if (typeof (root._bokeh_timeout) === \"undefined\" || force === true) {\n",
       "    root._bokeh_timeout = Date.now() + 5000;\n",
       "    root._bokeh_failed_load = false;\n",
       "  }\n",
       "\n",
       "  var NB_LOAD_WARNING = {'data': {'text/html':\n",
       "     \"<div style='background-color: #fdd'>\\n\"+\n",
       "     \"<p>\\n\"+\n",
       "     \"BokehJS does not appear to have successfully loaded. If loading BokehJS from CDN, this \\n\"+\n",
       "     \"may be due to a slow or bad network connection. Possible fixes:\\n\"+\n",
       "     \"</p>\\n\"+\n",
       "     \"<ul>\\n\"+\n",
       "     \"<li>re-rerun `output_notebook()` to attempt to load from CDN again, or</li>\\n\"+\n",
       "     \"<li>use INLINE resources instead, as so:</li>\\n\"+\n",
       "     \"</ul>\\n\"+\n",
       "     \"<code>\\n\"+\n",
       "     \"from bokeh.resources import INLINE\\n\"+\n",
       "     \"output_notebook(resources=INLINE)\\n\"+\n",
       "     \"</code>\\n\"+\n",
       "     \"</div>\"}};\n",
       "\n",
       "  function display_loaded() {\n",
       "    var el = document.getElementById(\"1001\");\n",
       "    if (el != null) {\n",
       "      el.textContent = \"BokehJS is loading...\";\n",
       "    }\n",
       "    if (root.Bokeh !== undefined) {\n",
       "      if (el != null) {\n",
       "        el.textContent = \"BokehJS \" + root.Bokeh.version + \" successfully loaded.\";\n",
       "      }\n",
       "    } else if (Date.now() < root._bokeh_timeout) {\n",
       "      setTimeout(display_loaded, 100)\n",
       "    }\n",
       "  }\n",
       "\n",
       "\n",
       "  function run_callbacks() {\n",
       "    try {\n",
       "      root._bokeh_onload_callbacks.forEach(function(callback) {\n",
       "        if (callback != null)\n",
       "          callback();\n",
       "      });\n",
       "    } finally {\n",
       "      delete root._bokeh_onload_callbacks\n",
       "    }\n",
       "    console.debug(\"Bokeh: all callbacks have finished\");\n",
       "  }\n",
       "\n",
       "  function load_libs(css_urls, js_urls, callback) {\n",
       "    if (css_urls == null) css_urls = [];\n",
       "    if (js_urls == null) js_urls = [];\n",
       "\n",
       "    root._bokeh_onload_callbacks.push(callback);\n",
       "    if (root._bokeh_is_loading > 0) {\n",
       "      console.debug(\"Bokeh: BokehJS is being loaded, scheduling callback at\", now());\n",
       "      return null;\n",
       "    }\n",
       "    if (js_urls == null || js_urls.length === 0) {\n",
       "      run_callbacks();\n",
       "      return null;\n",
       "    }\n",
       "    console.debug(\"Bokeh: BokehJS not loaded, scheduling load and callback at\", now());\n",
       "    root._bokeh_is_loading = css_urls.length + js_urls.length;\n",
       "\n",
       "    function on_load() {\n",
       "      root._bokeh_is_loading--;\n",
       "      if (root._bokeh_is_loading === 0) {\n",
       "        console.debug(\"Bokeh: all BokehJS libraries/stylesheets loaded\");\n",
       "        run_callbacks()\n",
       "      }\n",
       "    }\n",
       "\n",
       "    function on_error() {\n",
       "      console.error(\"failed to load \" + url);\n",
       "    }\n",
       "\n",
       "    for (var i = 0; i < css_urls.length; i++) {\n",
       "      var url = css_urls[i];\n",
       "      const element = document.createElement(\"link\");\n",
       "      element.onload = on_load;\n",
       "      element.onerror = on_error;\n",
       "      element.rel = \"stylesheet\";\n",
       "      element.type = \"text/css\";\n",
       "      element.href = url;\n",
       "      console.debug(\"Bokeh: injecting link tag for BokehJS stylesheet: \", url);\n",
       "      document.body.appendChild(element);\n",
       "    }\n",
       "\n",
       "    const hashes = {\"https://cdn.bokeh.org/bokeh/release/bokeh-2.0.1.min.js\": \"JpP8FXbgAZLkfur7LiK3j9AGBhHNIvF742meBJrjO2ShJDhCG2I1uVvW+0DUtrmc\", \"https://cdn.bokeh.org/bokeh/release/bokeh-widgets-2.0.1.min.js\": \"xZlADit0Q04ISQEdKg2k3L4W9AwQBAuDs9nJL9fM/WwzL1tEU9VPNezOFX0nLEAz\", \"https://cdn.bokeh.org/bokeh/release/bokeh-tables-2.0.1.min.js\": \"4BuPRZkdMKSnj3zoxiNrQ86XgNw0rYmBOxe7nshquXwwcauupgBF2DHLVG1WuZlV\", \"https://cdn.bokeh.org/bokeh/release/bokeh-gl-2.0.1.min.js\": \"Dv1SQ87hmDqK6S5OhBf0bCuwAEvL5QYL0PuR/F1SPVhCS/r/abjkbpKDYL2zeM19\"};\n",
       "\n",
       "    for (var i = 0; i < js_urls.length; i++) {\n",
       "      var url = js_urls[i];\n",
       "      var element = document.createElement('script');\n",
       "      element.onload = on_load;\n",
       "      element.onerror = on_error;\n",
       "      element.async = false;\n",
       "      element.src = url;\n",
       "      if (url in hashes) {\n",
       "        element.crossOrigin = \"anonymous\";\n",
       "        element.integrity = \"sha384-\" + hashes[url];\n",
       "      }\n",
       "      console.debug(\"Bokeh: injecting script tag for BokehJS library: \", url);\n",
       "      document.head.appendChild(element);\n",
       "    }\n",
       "  };var element = document.getElementById(\"1001\");\n",
       "  if (element == null) {\n",
       "    console.error(\"Bokeh: ERROR: autoload.js configured with elementid '1001' but no matching script tag was found. \")\n",
       "    return false;\n",
       "  }\n",
       "\n",
       "  function inject_raw_css(css) {\n",
       "    const element = document.createElement(\"style\");\n",
       "    element.appendChild(document.createTextNode(css));\n",
       "    document.body.appendChild(element);\n",
       "  }\n",
       "\n",
       "  \n",
       "  var js_urls = [\"https://cdn.bokeh.org/bokeh/release/bokeh-2.0.1.min.js\", \"https://cdn.bokeh.org/bokeh/release/bokeh-widgets-2.0.1.min.js\", \"https://cdn.bokeh.org/bokeh/release/bokeh-tables-2.0.1.min.js\", \"https://cdn.bokeh.org/bokeh/release/bokeh-gl-2.0.1.min.js\"];\n",
       "  var css_urls = [];\n",
       "  \n",
       "\n",
       "  var inline_js = [\n",
       "    function(Bokeh) {\n",
       "      Bokeh.set_log_level(\"info\");\n",
       "    },\n",
       "    function(Bokeh) {\n",
       "    \n",
       "    \n",
       "    }\n",
       "  ];\n",
       "\n",
       "  function run_inline_js() {\n",
       "    \n",
       "    if (root.Bokeh !== undefined || force === true) {\n",
       "      \n",
       "    for (var i = 0; i < inline_js.length; i++) {\n",
       "      inline_js[i].call(root, root.Bokeh);\n",
       "    }\n",
       "    if (force === true) {\n",
       "        display_loaded();\n",
       "      }} else if (Date.now() < root._bokeh_timeout) {\n",
       "      setTimeout(run_inline_js, 100);\n",
       "    } else if (!root._bokeh_failed_load) {\n",
       "      console.log(\"Bokeh: BokehJS failed to load within specified timeout.\");\n",
       "      root._bokeh_failed_load = true;\n",
       "    } else if (force !== true) {\n",
       "      var cell = $(document.getElementById(\"1001\")).parents('.cell').data().cell;\n",
       "      cell.output_area.append_execute_result(NB_LOAD_WARNING)\n",
       "    }\n",
       "\n",
       "  }\n",
       "\n",
       "  if (root._bokeh_is_loading === 0) {\n",
       "    console.debug(\"Bokeh: BokehJS loaded, going straight to plotting\");\n",
       "    run_inline_js();\n",
       "  } else {\n",
       "    load_libs(css_urls, js_urls, function() {\n",
       "      console.debug(\"Bokeh: BokehJS plotting callback run at\", now());\n",
       "      run_inline_js();\n",
       "    });\n",
       "  }\n",
       "}(window));"
      ],
      "application/vnd.bokehjs_load.v0+json": "\n(function(root) {\n  function now() {\n    return new Date();\n  }\n\n  var force = true;\n\n  if (typeof root._bokeh_onload_callbacks === \"undefined\" || force === true) {\n    root._bokeh_onload_callbacks = [];\n    root._bokeh_is_loading = undefined;\n  }\n\n  \n\n  \n  if (typeof (root._bokeh_timeout) === \"undefined\" || force === true) {\n    root._bokeh_timeout = Date.now() + 5000;\n    root._bokeh_failed_load = false;\n  }\n\n  var NB_LOAD_WARNING = {'data': {'text/html':\n     \"<div style='background-color: #fdd'>\\n\"+\n     \"<p>\\n\"+\n     \"BokehJS does not appear to have successfully loaded. If loading BokehJS from CDN, this \\n\"+\n     \"may be due to a slow or bad network connection. Possible fixes:\\n\"+\n     \"</p>\\n\"+\n     \"<ul>\\n\"+\n     \"<li>re-rerun `output_notebook()` to attempt to load from CDN again, or</li>\\n\"+\n     \"<li>use INLINE resources instead, as so:</li>\\n\"+\n     \"</ul>\\n\"+\n     \"<code>\\n\"+\n     \"from bokeh.resources import INLINE\\n\"+\n     \"output_notebook(resources=INLINE)\\n\"+\n     \"</code>\\n\"+\n     \"</div>\"}};\n\n  function display_loaded() {\n    var el = document.getElementById(\"1001\");\n    if (el != null) {\n      el.textContent = \"BokehJS is loading...\";\n    }\n    if (root.Bokeh !== undefined) {\n      if (el != null) {\n        el.textContent = \"BokehJS \" + root.Bokeh.version + \" successfully loaded.\";\n      }\n    } else if (Date.now() < root._bokeh_timeout) {\n      setTimeout(display_loaded, 100)\n    }\n  }\n\n\n  function run_callbacks() {\n    try {\n      root._bokeh_onload_callbacks.forEach(function(callback) {\n        if (callback != null)\n          callback();\n      });\n    } finally {\n      delete root._bokeh_onload_callbacks\n    }\n    console.debug(\"Bokeh: all callbacks have finished\");\n  }\n\n  function load_libs(css_urls, js_urls, callback) {\n    if (css_urls == null) css_urls = [];\n    if (js_urls == null) js_urls = [];\n\n    root._bokeh_onload_callbacks.push(callback);\n    if (root._bokeh_is_loading > 0) {\n      console.debug(\"Bokeh: BokehJS is being loaded, scheduling callback at\", now());\n      return null;\n    }\n    if (js_urls == null || js_urls.length === 0) {\n      run_callbacks();\n      return null;\n    }\n    console.debug(\"Bokeh: BokehJS not loaded, scheduling load and callback at\", now());\n    root._bokeh_is_loading = css_urls.length + js_urls.length;\n\n    function on_load() {\n      root._bokeh_is_loading--;\n      if (root._bokeh_is_loading === 0) {\n        console.debug(\"Bokeh: all BokehJS libraries/stylesheets loaded\");\n        run_callbacks()\n      }\n    }\n\n    function on_error() {\n      console.error(\"failed to load \" + url);\n    }\n\n    for (var i = 0; i < css_urls.length; i++) {\n      var url = css_urls[i];\n      const element = document.createElement(\"link\");\n      element.onload = on_load;\n      element.onerror = on_error;\n      element.rel = \"stylesheet\";\n      element.type = \"text/css\";\n      element.href = url;\n      console.debug(\"Bokeh: injecting link tag for BokehJS stylesheet: \", url);\n      document.body.appendChild(element);\n    }\n\n    const hashes = {\"https://cdn.bokeh.org/bokeh/release/bokeh-2.0.1.min.js\": \"JpP8FXbgAZLkfur7LiK3j9AGBhHNIvF742meBJrjO2ShJDhCG2I1uVvW+0DUtrmc\", \"https://cdn.bokeh.org/bokeh/release/bokeh-widgets-2.0.1.min.js\": \"xZlADit0Q04ISQEdKg2k3L4W9AwQBAuDs9nJL9fM/WwzL1tEU9VPNezOFX0nLEAz\", \"https://cdn.bokeh.org/bokeh/release/bokeh-tables-2.0.1.min.js\": \"4BuPRZkdMKSnj3zoxiNrQ86XgNw0rYmBOxe7nshquXwwcauupgBF2DHLVG1WuZlV\", \"https://cdn.bokeh.org/bokeh/release/bokeh-gl-2.0.1.min.js\": \"Dv1SQ87hmDqK6S5OhBf0bCuwAEvL5QYL0PuR/F1SPVhCS/r/abjkbpKDYL2zeM19\"};\n\n    for (var i = 0; i < js_urls.length; i++) {\n      var url = js_urls[i];\n      var element = document.createElement('script');\n      element.onload = on_load;\n      element.onerror = on_error;\n      element.async = false;\n      element.src = url;\n      if (url in hashes) {\n        element.crossOrigin = \"anonymous\";\n        element.integrity = \"sha384-\" + hashes[url];\n      }\n      console.debug(\"Bokeh: injecting script tag for BokehJS library: \", url);\n      document.head.appendChild(element);\n    }\n  };var element = document.getElementById(\"1001\");\n  if (element == null) {\n    console.error(\"Bokeh: ERROR: autoload.js configured with elementid '1001' but no matching script tag was found. \")\n    return false;\n  }\n\n  function inject_raw_css(css) {\n    const element = document.createElement(\"style\");\n    element.appendChild(document.createTextNode(css));\n    document.body.appendChild(element);\n  }\n\n  \n  var js_urls = [\"https://cdn.bokeh.org/bokeh/release/bokeh-2.0.1.min.js\", \"https://cdn.bokeh.org/bokeh/release/bokeh-widgets-2.0.1.min.js\", \"https://cdn.bokeh.org/bokeh/release/bokeh-tables-2.0.1.min.js\", \"https://cdn.bokeh.org/bokeh/release/bokeh-gl-2.0.1.min.js\"];\n  var css_urls = [];\n  \n\n  var inline_js = [\n    function(Bokeh) {\n      Bokeh.set_log_level(\"info\");\n    },\n    function(Bokeh) {\n    \n    \n    }\n  ];\n\n  function run_inline_js() {\n    \n    if (root.Bokeh !== undefined || force === true) {\n      \n    for (var i = 0; i < inline_js.length; i++) {\n      inline_js[i].call(root, root.Bokeh);\n    }\n    if (force === true) {\n        display_loaded();\n      }} else if (Date.now() < root._bokeh_timeout) {\n      setTimeout(run_inline_js, 100);\n    } else if (!root._bokeh_failed_load) {\n      console.log(\"Bokeh: BokehJS failed to load within specified timeout.\");\n      root._bokeh_failed_load = true;\n    } else if (force !== true) {\n      var cell = $(document.getElementById(\"1001\")).parents('.cell').data().cell;\n      cell.output_area.append_execute_result(NB_LOAD_WARNING)\n    }\n\n  }\n\n  if (root._bokeh_is_loading === 0) {\n    console.debug(\"Bokeh: BokehJS loaded, going straight to plotting\");\n    run_inline_js();\n  } else {\n    load_libs(css_urls, js_urls, function() {\n      console.debug(\"Bokeh: BokehJS plotting callback run at\", now());\n      run_inline_js();\n    });\n  }\n}(window));"
     },
     "metadata": {},
     "output_type": "display_data"
    }
   ],
   "source": [
    "from ipywidgets import interact\n",
    "from bokeh.models import MultiSelect\n",
    "\n",
    "from bokeh.io import push_notebook, show, output_notebook\n",
    "from bokeh.models import ColumnDataSource, Slider, TextInput\n",
    "from bokeh.plotting import figure\n",
    "output_notebook()"
   ]
  },
  {
   "cell_type": "code",
   "execution_count": 28,
   "metadata": {},
   "outputs": [
    {
     "data": {
      "text/plain": [
       "'#172a74'"
      ]
     },
     "execution_count": 28,
     "metadata": {},
     "output_type": "execute_result"
    }
   ],
   "source": [
    "cc.b_glasbey_bw\n"
   ]
  },
  {
   "cell_type": "code",
   "execution_count": 6,
   "metadata": {},
   "outputs": [],
   "source": [
    "url_confirmed = 'https://raw.githubusercontent.com/CSSEGISandData/COVID-19/master/csse_covid_19_data/csse_covid_19_time_series/time_series_covid19_confirmed_global.csv'\n",
    "url_death = 'https://raw.githubusercontent.com/CSSEGISandData/COVID-19/master/csse_covid_19_data/csse_covid_19_time_series/time_series_covid19_deaths_global.csv'"
   ]
  },
  {
   "cell_type": "code",
   "execution_count": 7,
   "metadata": {},
   "outputs": [
    {
     "name": "stdout",
     "output_type": "stream",
     "text": [
      "--2020-04-28 17:20:26--  https://raw.githubusercontent.com/CSSEGISandData/COVID-19/master/csse_covid_19_data/csse_covid_19_time_series/time_series_covid19_confirmed_global.csv\n",
      "Resolving raw.githubusercontent.com (raw.githubusercontent.com)... 151.101.112.133\n",
      "Connecting to raw.githubusercontent.com (raw.githubusercontent.com)|151.101.112.133|:443... connected.\n",
      "HTTP request sent, awaiting response... 200 OK\n",
      "Length: 83660 (82K) [text/plain]\n",
      "Saving to: ‘data/confirmed.csv’\n",
      "\n",
      "data/confirmed.csv  100%[===================>]  81,70K  --.-KB/s    in 0,06s   \n",
      "\n",
      "2020-04-28 17:20:26 (1,42 MB/s) - ‘data/confirmed.csv’ saved [83660/83660]\n",
      "\n",
      "--2020-04-28 17:20:27--  https://raw.githubusercontent.com/CSSEGISandData/COVID-19/master/csse_covid_19_data/csse_covid_19_time_series/time_series_covid19_deaths_global.csv\n",
      "Resolving raw.githubusercontent.com (raw.githubusercontent.com)... 151.101.112.133\n",
      "Connecting to raw.githubusercontent.com (raw.githubusercontent.com)|151.101.112.133|:443... connected.\n",
      "HTTP request sent, awaiting response... 200 OK\n",
      "Length: 64984 (63K) [text/plain]\n",
      "Saving to: ‘data/deaths.csv’\n",
      "\n",
      "data/deaths.csv     100%[===================>]  63,46K  --.-KB/s    in 0,05s   \n",
      "\n",
      "2020-04-28 17:20:27 (1,18 MB/s) - ‘data/deaths.csv’ saved [64984/64984]\n",
      "\n"
     ]
    }
   ],
   "source": [
    "!wget -O data/confirmed.csv $url_confirmed\n",
    "!wget -O data/deaths.csv $url_death"
   ]
  },
  {
   "cell_type": "code",
   "execution_count": 8,
   "metadata": {},
   "outputs": [],
   "source": [
    "df = pd.read_csv('data/confirmed.csv')"
   ]
  },
  {
   "cell_type": "code",
   "execution_count": 9,
   "metadata": {},
   "outputs": [
    {
     "data": {
      "text/html": [
       "<div>\n",
       "<style scoped>\n",
       "    .dataframe tbody tr th:only-of-type {\n",
       "        vertical-align: middle;\n",
       "    }\n",
       "\n",
       "    .dataframe tbody tr th {\n",
       "        vertical-align: top;\n",
       "    }\n",
       "\n",
       "    .dataframe thead th {\n",
       "        text-align: right;\n",
       "    }\n",
       "</style>\n",
       "<table border=\"1\" class=\"dataframe\">\n",
       "  <thead>\n",
       "    <tr style=\"text-align: right;\">\n",
       "      <th></th>\n",
       "      <th>Province/State</th>\n",
       "      <th>Country/Region</th>\n",
       "      <th>Lat</th>\n",
       "      <th>Long</th>\n",
       "      <th>1/22/20</th>\n",
       "      <th>1/23/20</th>\n",
       "      <th>1/24/20</th>\n",
       "      <th>1/25/20</th>\n",
       "      <th>1/26/20</th>\n",
       "      <th>1/27/20</th>\n",
       "      <th>...</th>\n",
       "      <th>4/18/20</th>\n",
       "      <th>4/19/20</th>\n",
       "      <th>4/20/20</th>\n",
       "      <th>4/21/20</th>\n",
       "      <th>4/22/20</th>\n",
       "      <th>4/23/20</th>\n",
       "      <th>4/24/20</th>\n",
       "      <th>4/25/20</th>\n",
       "      <th>4/26/20</th>\n",
       "      <th>4/27/20</th>\n",
       "    </tr>\n",
       "  </thead>\n",
       "  <tbody>\n",
       "    <tr>\n",
       "      <th>0</th>\n",
       "      <td>NaN</td>\n",
       "      <td>Afghanistan</td>\n",
       "      <td>33.0000</td>\n",
       "      <td>65.0000</td>\n",
       "      <td>0</td>\n",
       "      <td>0</td>\n",
       "      <td>0</td>\n",
       "      <td>0</td>\n",
       "      <td>0</td>\n",
       "      <td>0</td>\n",
       "      <td>...</td>\n",
       "      <td>933</td>\n",
       "      <td>996</td>\n",
       "      <td>1026</td>\n",
       "      <td>1092</td>\n",
       "      <td>1176</td>\n",
       "      <td>1279</td>\n",
       "      <td>1351</td>\n",
       "      <td>1463</td>\n",
       "      <td>1531</td>\n",
       "      <td>1703</td>\n",
       "    </tr>\n",
       "    <tr>\n",
       "      <th>1</th>\n",
       "      <td>NaN</td>\n",
       "      <td>Albania</td>\n",
       "      <td>41.1533</td>\n",
       "      <td>20.1683</td>\n",
       "      <td>0</td>\n",
       "      <td>0</td>\n",
       "      <td>0</td>\n",
       "      <td>0</td>\n",
       "      <td>0</td>\n",
       "      <td>0</td>\n",
       "      <td>...</td>\n",
       "      <td>548</td>\n",
       "      <td>562</td>\n",
       "      <td>584</td>\n",
       "      <td>609</td>\n",
       "      <td>634</td>\n",
       "      <td>663</td>\n",
       "      <td>678</td>\n",
       "      <td>712</td>\n",
       "      <td>726</td>\n",
       "      <td>736</td>\n",
       "    </tr>\n",
       "    <tr>\n",
       "      <th>2</th>\n",
       "      <td>NaN</td>\n",
       "      <td>Algeria</td>\n",
       "      <td>28.0339</td>\n",
       "      <td>1.6596</td>\n",
       "      <td>0</td>\n",
       "      <td>0</td>\n",
       "      <td>0</td>\n",
       "      <td>0</td>\n",
       "      <td>0</td>\n",
       "      <td>0</td>\n",
       "      <td>...</td>\n",
       "      <td>2534</td>\n",
       "      <td>2629</td>\n",
       "      <td>2718</td>\n",
       "      <td>2811</td>\n",
       "      <td>2910</td>\n",
       "      <td>3007</td>\n",
       "      <td>3127</td>\n",
       "      <td>3256</td>\n",
       "      <td>3382</td>\n",
       "      <td>3517</td>\n",
       "    </tr>\n",
       "    <tr>\n",
       "      <th>3</th>\n",
       "      <td>NaN</td>\n",
       "      <td>Andorra</td>\n",
       "      <td>42.5063</td>\n",
       "      <td>1.5218</td>\n",
       "      <td>0</td>\n",
       "      <td>0</td>\n",
       "      <td>0</td>\n",
       "      <td>0</td>\n",
       "      <td>0</td>\n",
       "      <td>0</td>\n",
       "      <td>...</td>\n",
       "      <td>704</td>\n",
       "      <td>713</td>\n",
       "      <td>717</td>\n",
       "      <td>717</td>\n",
       "      <td>723</td>\n",
       "      <td>723</td>\n",
       "      <td>731</td>\n",
       "      <td>738</td>\n",
       "      <td>738</td>\n",
       "      <td>743</td>\n",
       "    </tr>\n",
       "    <tr>\n",
       "      <th>4</th>\n",
       "      <td>NaN</td>\n",
       "      <td>Angola</td>\n",
       "      <td>-11.2027</td>\n",
       "      <td>17.8739</td>\n",
       "      <td>0</td>\n",
       "      <td>0</td>\n",
       "      <td>0</td>\n",
       "      <td>0</td>\n",
       "      <td>0</td>\n",
       "      <td>0</td>\n",
       "      <td>...</td>\n",
       "      <td>24</td>\n",
       "      <td>24</td>\n",
       "      <td>24</td>\n",
       "      <td>24</td>\n",
       "      <td>25</td>\n",
       "      <td>25</td>\n",
       "      <td>25</td>\n",
       "      <td>25</td>\n",
       "      <td>26</td>\n",
       "      <td>27</td>\n",
       "    </tr>\n",
       "  </tbody>\n",
       "</table>\n",
       "<p>5 rows × 101 columns</p>\n",
       "</div>"
      ],
      "text/plain": [
       "  Province/State Country/Region      Lat     Long  1/22/20  1/23/20  1/24/20  \\\n",
       "0            NaN    Afghanistan  33.0000  65.0000        0        0        0   \n",
       "1            NaN        Albania  41.1533  20.1683        0        0        0   \n",
       "2            NaN        Algeria  28.0339   1.6596        0        0        0   \n",
       "3            NaN        Andorra  42.5063   1.5218        0        0        0   \n",
       "4            NaN         Angola -11.2027  17.8739        0        0        0   \n",
       "\n",
       "   1/25/20  1/26/20  1/27/20  ...  4/18/20  4/19/20  4/20/20  4/21/20  \\\n",
       "0        0        0        0  ...      933      996     1026     1092   \n",
       "1        0        0        0  ...      548      562      584      609   \n",
       "2        0        0        0  ...     2534     2629     2718     2811   \n",
       "3        0        0        0  ...      704      713      717      717   \n",
       "4        0        0        0  ...       24       24       24       24   \n",
       "\n",
       "   4/22/20  4/23/20  4/24/20  4/25/20  4/26/20  4/27/20  \n",
       "0     1176     1279     1351     1463     1531     1703  \n",
       "1      634      663      678      712      726      736  \n",
       "2     2910     3007     3127     3256     3382     3517  \n",
       "3      723      723      731      738      738      743  \n",
       "4       25       25       25       25       26       27  \n",
       "\n",
       "[5 rows x 101 columns]"
      ]
     },
     "execution_count": 9,
     "metadata": {},
     "output_type": "execute_result"
    }
   ],
   "source": [
    "df.head()"
   ]
  },
  {
   "cell_type": "code",
   "execution_count": 10,
   "metadata": {},
   "outputs": [
    {
     "data": {
      "text/plain": [
       "Index(['Province/State', 'Country/Region', 'Lat', 'Long', '1/22/20', '1/23/20',\n",
       "       '1/24/20', '1/25/20', '1/26/20', '1/27/20',\n",
       "       ...\n",
       "       '4/18/20', '4/19/20', '4/20/20', '4/21/20', '4/22/20', '4/23/20',\n",
       "       '4/24/20', '4/25/20', '4/26/20', '4/27/20'],\n",
       "      dtype='object', length=101)"
      ]
     },
     "execution_count": 10,
     "metadata": {},
     "output_type": "execute_result"
    }
   ],
   "source": [
    "df.columns"
   ]
  },
  {
   "cell_type": "code",
   "execution_count": 11,
   "metadata": {},
   "outputs": [
    {
     "data": {
      "text/plain": [
       "Province/State          0\n",
       "Country/Region    Germany\n",
       "Lat                    51\n",
       "Long                    9\n",
       "1/22/20                 0\n",
       "                   ...   \n",
       "4/23/20            153129\n",
       "4/24/20            154999\n",
       "4/25/20            156513\n",
       "4/26/20            157770\n",
       "4/27/20            158758\n",
       "Length: 101, dtype: object"
      ]
     },
     "execution_count": 11,
     "metadata": {},
     "output_type": "execute_result"
    }
   ],
   "source": [
    "df[df['Country/Region']=='Germany'].sum(axis=0)"
   ]
  },
  {
   "cell_type": "code",
   "execution_count": 12,
   "metadata": {},
   "outputs": [],
   "source": []
  },
  {
   "cell_type": "code",
   "execution_count": 22,
   "metadata": {},
   "outputs": [
    {
     "ename": "TypeError",
     "evalue": "'LinearSegmentedColormap' object is not subscriptable",
     "output_type": "error",
     "traceback": [
      "\u001b[0;31m---------------------------------------------------------------------------\u001b[0m",
      "\u001b[0;31mTypeError\u001b[0m                                 Traceback (most recent call last)",
      "\u001b[0;32m<ipython-input-22-0d35a3155dfb>\u001b[0m in \u001b[0;36m<module>\u001b[0;34m\u001b[0m\n\u001b[0;32m----> 1\u001b[0;31m \u001b[0mcc\u001b[0m\u001b[0;34m.\u001b[0m\u001b[0mcm\u001b[0m\u001b[0;34m.\u001b[0m\u001b[0mglasbey_bw\u001b[0m\u001b[0;34m[\u001b[0m\u001b[0;36m1\u001b[0m\u001b[0;34m]\u001b[0m\u001b[0;34m\u001b[0m\u001b[0;34m\u001b[0m\u001b[0m\n\u001b[0m",
      "\u001b[0;31mTypeError\u001b[0m: 'LinearSegmentedColormap' object is not subscriptable"
     ]
    }
   ],
   "source": [
    "p.circle(-25, 25, radius=5, color=(0, 0, 0), alpha=0.8)"
   ]
  },
  {
   "cell_type": "code",
   "execution_count": 20,
   "metadata": {},
   "outputs": [
    {
     "ename": "TypeError",
     "evalue": "'LinearSegmentedColormap' object is not subscriptable",
     "output_type": "error",
     "traceback": [
      "\u001b[0;31m---------------------------------------------------------------------------\u001b[0m",
      "\u001b[0;31mTypeError\u001b[0m                                 Traceback (most recent call last)",
      "\u001b[0;32m<ipython-input-20-3fd5585cbedd>\u001b[0m in \u001b[0;36m<module>\u001b[0;34m\u001b[0m\n\u001b[0;32m----> 1\u001b[0;31m \u001b[0mdict\u001b[0m\u001b[0;34m(\u001b[0m\u001b[0mzip\u001b[0m\u001b[0;34m(\u001b[0m\u001b[0mdf\u001b[0m\u001b[0;34m[\u001b[0m\u001b[0;34m'Country/Region'\u001b[0m\u001b[0;34m]\u001b[0m\u001b[0;34m.\u001b[0m\u001b[0munique\u001b[0m\u001b[0;34m(\u001b[0m\u001b[0;34m)\u001b[0m\u001b[0;34m,\u001b[0m \u001b[0mcc\u001b[0m\u001b[0;34m.\u001b[0m\u001b[0mcm\u001b[0m\u001b[0;34m.\u001b[0m\u001b[0mglasbey_bw\u001b[0m\u001b[0;34m[\u001b[0m\u001b[0;34m:\u001b[0m\u001b[0mlen\u001b[0m\u001b[0;34m(\u001b[0m\u001b[0mdf\u001b[0m\u001b[0;34m[\u001b[0m\u001b[0;34m'Country/Region'\u001b[0m\u001b[0;34m]\u001b[0m\u001b[0;34m.\u001b[0m\u001b[0munique\u001b[0m\u001b[0;34m(\u001b[0m\u001b[0;34m)\u001b[0m\u001b[0;34m)\u001b[0m\u001b[0;34m]\u001b[0m\u001b[0;34m)\u001b[0m\u001b[0;34m)\u001b[0m\u001b[0;34m\u001b[0m\u001b[0;34m\u001b[0m\u001b[0m\n\u001b[0m",
      "\u001b[0;31mTypeError\u001b[0m: 'LinearSegmentedColormap' object is not subscriptable"
     ]
    }
   ],
   "source": [
    "dict(zip(df['Country/Region'].unique(), cc.cm.glasbey_bw[:len(df['Country/Region'].unique())]))"
   ]
  },
  {
   "cell_type": "code",
   "execution_count": 13,
   "metadata": {},
   "outputs": [
    {
     "data": {
      "text/plain": [
       "array([nan, 'Australian Capital Territory', 'New South Wales',\n",
       "       'Northern Territory', 'Queensland', 'South Australia', 'Tasmania',\n",
       "       'Victoria', 'Western Australia', 'Alberta', 'British Columbia',\n",
       "       'Grand Princess', 'Manitoba', 'New Brunswick',\n",
       "       'Newfoundland and Labrador', 'Nova Scotia', 'Ontario',\n",
       "       'Prince Edward Island', 'Quebec', 'Saskatchewan', 'Anhui',\n",
       "       'Beijing', 'Chongqing', 'Fujian', 'Gansu', 'Guangdong', 'Guangxi',\n",
       "       'Guizhou', 'Hainan', 'Hebei', 'Heilongjiang', 'Henan', 'Hong Kong',\n",
       "       'Hubei', 'Hunan', 'Inner Mongolia', 'Jiangsu', 'Jiangxi', 'Jilin',\n",
       "       'Liaoning', 'Macau', 'Ningxia', 'Qinghai', 'Shaanxi', 'Shandong',\n",
       "       'Shanghai', 'Shanxi', 'Sichuan', 'Tianjin', 'Tibet', 'Xinjiang',\n",
       "       'Yunnan', 'Zhejiang', 'Faroe Islands', 'Greenland',\n",
       "       'French Guiana', 'French Polynesia', 'Guadeloupe', 'Mayotte',\n",
       "       'New Caledonia', 'Reunion', 'Saint Barthelemy', 'St Martin',\n",
       "       'Martinique', 'Aruba', 'Curacao', 'Sint Maarten', 'Bermuda',\n",
       "       'Cayman Islands', 'Channel Islands', 'Gibraltar', 'Isle of Man',\n",
       "       'Montserrat', 'Diamond Princess', 'Recovered',\n",
       "       'Northwest Territories', 'Yukon', 'Anguilla',\n",
       "       'British Virgin Islands', 'Turks and Caicos Islands',\n",
       "       'Bonaire, Sint Eustatius and Saba', 'Falkland Islands (Malvinas)',\n",
       "       'Saint Pierre and Miquelon'], dtype=object)"
      ]
     },
     "execution_count": 13,
     "metadata": {},
     "output_type": "execute_result"
    }
   ],
   "source": [
    "df['Province/State'].unique()"
   ]
  },
  {
   "cell_type": "code",
   "execution_count": 15,
   "metadata": {},
   "outputs": [],
   "source": [
    "df_sub = df[df['Country/Region']=='Germany']"
   ]
  },
  {
   "cell_type": "code",
   "execution_count": 37,
   "metadata": {},
   "outputs": [],
   "source": [
    "absolute = df_sub[df.columns[4:]].sum(axis=0).to_frame(name='sum') \n",
    "new_cases = absolute.diff(axis=0).fillna(0)\n",
    "new_cases_rolling = new_cases.rolling(window=7, axis=0).mean().fillna(0)"
   ]
  },
  {
   "cell_type": "code",
   "execution_count": 36,
   "metadata": {},
   "outputs": [
    {
     "data": {
      "text/html": [
       "<div>\n",
       "<style scoped>\n",
       "    .dataframe tbody tr th:only-of-type {\n",
       "        vertical-align: middle;\n",
       "    }\n",
       "\n",
       "    .dataframe tbody tr th {\n",
       "        vertical-align: top;\n",
       "    }\n",
       "\n",
       "    .dataframe thead th {\n",
       "        text-align: right;\n",
       "    }\n",
       "</style>\n",
       "<table border=\"1\" class=\"dataframe\">\n",
       "  <thead>\n",
       "    <tr style=\"text-align: right;\">\n",
       "      <th></th>\n",
       "      <th>sum</th>\n",
       "    </tr>\n",
       "  </thead>\n",
       "  <tbody>\n",
       "    <tr>\n",
       "      <th>1/22/20</th>\n",
       "      <td>0.0</td>\n",
       "    </tr>\n",
       "    <tr>\n",
       "      <th>1/23/20</th>\n",
       "      <td>0.0</td>\n",
       "    </tr>\n",
       "    <tr>\n",
       "      <th>1/24/20</th>\n",
       "      <td>4.0</td>\n",
       "    </tr>\n",
       "    <tr>\n",
       "      <th>1/25/20</th>\n",
       "      <td>2.0</td>\n",
       "    </tr>\n",
       "    <tr>\n",
       "      <th>1/26/20</th>\n",
       "      <td>0.0</td>\n",
       "    </tr>\n",
       "    <tr>\n",
       "      <th>...</th>\n",
       "      <td>...</td>\n",
       "    </tr>\n",
       "    <tr>\n",
       "      <th>4/16/20</th>\n",
       "      <td>25018.0</td>\n",
       "    </tr>\n",
       "    <tr>\n",
       "      <th>4/17/20</th>\n",
       "      <td>4078.0</td>\n",
       "    </tr>\n",
       "    <tr>\n",
       "      <th>4/18/20</th>\n",
       "      <td>38.0</td>\n",
       "    </tr>\n",
       "    <tr>\n",
       "      <th>4/19/20</th>\n",
       "      <td>9896.0</td>\n",
       "    </tr>\n",
       "    <tr>\n",
       "      <th>4/20/20</th>\n",
       "      <td>4766.0</td>\n",
       "    </tr>\n",
       "  </tbody>\n",
       "</table>\n",
       "<p>90 rows × 1 columns</p>\n",
       "</div>"
      ],
      "text/plain": [
       "             sum\n",
       "1/22/20      0.0\n",
       "1/23/20      0.0\n",
       "1/24/20      4.0\n",
       "1/25/20      2.0\n",
       "1/26/20      0.0\n",
       "...          ...\n",
       "4/16/20  25018.0\n",
       "4/17/20   4078.0\n",
       "4/18/20     38.0\n",
       "4/19/20   9896.0\n",
       "4/20/20   4766.0\n",
       "\n",
       "[90 rows x 1 columns]"
      ]
     },
     "execution_count": 36,
     "metadata": {},
     "output_type": "execute_result"
    }
   ],
   "source": [
    "new_cases"
   ]
  },
  {
   "cell_type": "code",
   "execution_count": 17,
   "metadata": {},
   "outputs": [
    {
     "data": {
      "text/plain": [
       "1/22/20         0\n",
       "1/23/20         0\n",
       "1/24/20         2\n",
       "1/25/20         3\n",
       "1/26/20         3\n",
       "            ...  \n",
       "4/16/20    147091\n",
       "4/17/20    149130\n",
       "4/18/20    149149\n",
       "4/19/20    154097\n",
       "4/20/20    156480\n",
       "Length: 90, dtype: int64"
      ]
     },
     "execution_count": 17,
     "metadata": {},
     "output_type": "execute_result"
    }
   ],
   "source": [
    "df_sub[df.columns[4:]].sum(axis=0)"
   ]
  },
  {
   "cell_type": "code",
   "execution_count": 12,
   "metadata": {},
   "outputs": [
    {
     "data": {
      "text/plain": [
       "array([     0,      0,      0,      0,      0,      0,      0,      0,\n",
       "            0,      0,      0,      0,      0,      0,      0,      0,\n",
       "            0,      0,      0,      0,      0,      0,      0,      0,\n",
       "            0,      0,      0,      0,      0,      0,      0,      0,\n",
       "            0,      0,      0,      0,      0,      0,      0,      0,\n",
       "            0,      0,      0,      0,      0,      5,      5,      5,\n",
       "            5,      5,      5,      5,      5,      7,     11,     11,\n",
       "           11,     11,     15,     18,     18,     20,     23,     28,\n",
       "           28,     28,     28,     28,     43,     43,     51,     51,\n",
       "           57,     61,     61,     72,     72,     77,     83,     83,\n",
       "           83,     86,     86,     86,     86,     86,     96,     96,\n",
       "           96,     97,      0,      0,      0,      0,      0,      0,\n",
       "            0,      0,      0,      0,      0,      0,      0,      0,\n",
       "            0,      0,      0,      0,      0,      0,      0,      0,\n",
       "            0,      0,      0,      0,      0,      0,      0,      0,\n",
       "            0,      0,      0,      0,      0,      0,      0,      0,\n",
       "            0,      0,      0,      0,      0,      0,      0,      0,\n",
       "            0,      0,      0,      0,      0,      3,      3,      3,\n",
       "            3,      3,      3,      6,     11,     15,     18,     18,\n",
       "           25,     25,     30,     30,     30,     30,     36,     36,\n",
       "           37,     37,     39,     40,     41,     42,     47,     51,\n",
       "           51,     51,     51,     53,     55,     55,     55,     55,\n",
       "           55,     55,     55,     56,      0,      0,      0,      0,\n",
       "            0,      0,      0,      0,      0,      0,      0,      0,\n",
       "            0,      0,      0,      0,      0,      0,      0,      0,\n",
       "            0,      0,      0,      0,      0,      0,      0,      0,\n",
       "            0,      0,      0,      0,      0,      0,      0,      0,\n",
       "            0,      0,      0,      0,      0,      0,      0,      0,\n",
       "            0,      0,      0,      0,      0,      0,      0,      1,\n",
       "            1,      3,      6,     18,     27,     33,     45,     53,\n",
       "           58,     62,     62,     73,     73,     73,    102,    106,\n",
       "          106,    114,    125,    128,    130,    134,    135,    135,\n",
       "          139,    141,    141,    143,    143,    143,    143,    145,\n",
       "          145,    145,    145,    148,    148,    148,      0,      0,\n",
       "            0,      0,      0,      0,      0,      0,      0,      0,\n",
       "            0,      0,      0,      0,      0,      0,      0,      0,\n",
       "            0,      0,      0,      0,      0,      0,      0,      0,\n",
       "            0,      0,      0,      0,      0,      0,      0,      0,\n",
       "            0,      0,      0,      0,      0,      0,      0,      0,\n",
       "            0,      0,      0,      0,      0,      0,      0,      0,\n",
       "            0,      0,      0,      1,      1,      1,      3,      3,\n",
       "            6,      7,     11,     24,     36,     36,     36,     50,\n",
       "           63,     63,     82,     94,     94,    116,    128,    134,\n",
       "          147,    147,    171,    171,    184,    191,    196,    196,\n",
       "          207,    217,    217,    233,    245,    254,    271,    271,\n",
       "            0,      0,      0,      0,      0,      0,      0,      0,\n",
       "            0,      0,      0,      0,      0,      0,      0,      0,\n",
       "            0,      0,      0,      0,      0,      0,      0,      0,\n",
       "            0,      0,      0,      0,      0,      0,      0,      0,\n",
       "            0,      0,      0,      0,      0,      0,      0,      0,\n",
       "            0,      0,      0,      0,      0,      0,      0,      0,\n",
       "            0,      0,      0,      0,      0,      0,      0,      0,\n",
       "            0,      2,      2,      4,      4,      8,     10,     14,\n",
       "           14,     15,     15,     15,     15,     16,     16,     18,\n",
       "           18,     17,     18,     18,     18,     18,     18,     18,\n",
       "           18,     18,     18,     18,     18,     18,     18,     18,\n",
       "           18,     18,      0,      0,      0,      0,      0,      0,\n",
       "            0,      0,      0,      0,      0,      0,      0,      0,\n",
       "            0,      0,      0,      0,      0,      0,      0,      0,\n",
       "            0,      0,      0,      0,      0,      0,      0,      0,\n",
       "            0,      0,      0,      0,      0,      0,      0,      0,\n",
       "            0,      0,      0,      0,      0,      0,      0,      0,\n",
       "            0,      0,      0,      1,      1,      5,      6,      7,\n",
       "            9,      9,     12,     14,     28,     45,     64,     71,\n",
       "           94,    111,    135,    145,    183,    183,    224,    247,\n",
       "          281,    308,    321,    334,    344,    349,    358,    358,\n",
       "          362,    382,    388,    389,    391,    391,    391,    394,\n",
       "          402,    407,    408,    408,      0,      0,      0,      0,\n",
       "            0,      0,      0,      0,      0,      0,      0,      0,\n",
       "            0,      0,      0,      0,      0,      0,      0,      0,\n",
       "            0,      0,      0,      0,      0,      0,      0,      0,\n",
       "            0,      0,      0,      0,      0,      0,      0,      0,\n",
       "            0,      0,      0,      0,      0,      0,      3,      3,\n",
       "            3,      3,      3,      1,      1,      1,      1,      1,\n",
       "            1,      1,      3,      3,      3,      3,      3,      3,\n",
       "            3,      3,      3,      3,      3,      5,      5,      5,\n",
       "            6,      6,      6,      6,      6,      6,      6,      6,\n",
       "            6,      6,      6,      6,      6,      6,      6,      6,\n",
       "            6,      6,      6,      6,      6,      6,      0,      0,\n",
       "            0,      0,      0,      0,      0,      0,      0,      0,\n",
       "            0,      0,      0,      0,      0,      0,      0,      0,\n",
       "            0,      0,      0,      0,      0,      0,      0,      0,\n",
       "            0,      0,      0,      0,      0,      0,      0,      0,\n",
       "            0,      0,      0,      0,      0,      0,      0,      0,\n",
       "            0,      0,      0,      0,      0,      2,      2,      2,\n",
       "            2,      2,      2,      2,      2,      2,      3,      4,\n",
       "            4,      4,      5,      8,      8,     11,     11,     11,\n",
       "           11,     11,     15,     15,     15,     22,     22,     24,\n",
       "           32,     32,     32,     32,     32,     32,     32,     32,\n",
       "           32,     32,     35,     35,     35,     37,     37,     37,\n",
       "            0,      0,      0,      0,      0,      0,      0,      0,\n",
       "            0,      0,      0,      0,      0,      0,      0,      0,\n",
       "            0,      0,      0,      0,      0,      0,      0,      0,\n",
       "            0,      0,      0,      0,      0,      0,      0,      0,\n",
       "            0,      0,      0,      0,      0,      0,      0,      0,\n",
       "            0,      0,      0,      0,      0,      2,      2,      2,\n",
       "            2,      3,      3,      3,      9,      9,     15,     16,\n",
       "           19,     23,     32,     32,     44,     53,     57,     66,\n",
       "           66,     81,     93,     93,     93,    128,    135,    138,\n",
       "          143,    145,    149,    151,    152,    154,    154,    155,\n",
       "          155,    155,    157,    157,    158,    158,    158,    158,\n",
       "          163,    163,      0,      0,      2,      3,      3,      3,\n",
       "            4,      5,      5,      5,      6,      6,      6,      6,\n",
       "            6,      6,      6,     11,     11,     11,     11,     11,\n",
       "           11,     11,     12,     12,     12,     12,     12,     12,\n",
       "           12,     12,     12,     12,     14,     18,     38,     57,\n",
       "          100,    130,    191,    204,    285,    377,    653,    949,\n",
       "         1126,   1209,   1784,   2281,   2281,   3661,   4469,   4499,\n",
       "         6633,   7652,   9043,  10871,  12612,  14282,  16018,  19856,\n",
       "        22304,  25233,  29155,  32964,  37575,  40174,  44550,  52128,\n",
       "        56989,  59105,  64338,  68605,  70478,  74390,  78167,  82048,\n",
       "        86334,  90676,  93790, 120633, 124298, 130253, 133470, 145960,\n",
       "       147969, 147969, 152894, 155275,      0,      0,      0,      0,\n",
       "            0,      0,      0,      0,      0,      0,      0,      0,\n",
       "            0,      0,      0,      0,      0,      0,      0,      0,\n",
       "            0,      0,      0,      0,      0,      0,      0,      0,\n",
       "            0,      0,      0,      0,      0,      0,      0,      0,\n",
       "            0,      0,      0,      0,      0,      0,      0,      0,\n",
       "            0,      0,      0,      0,      0,      0,      0,      0,\n",
       "            0,      0,      0,      0,      0,      0,      0,      0,\n",
       "            0,      0,      0,      0,      0,      0,      0,      0,\n",
       "            0,      0,      0,      0,      0,      0,      1,      1,\n",
       "            1,      1,      1,      1,      1,      1,      1,      1,\n",
       "            1,      1,      1,      1,      1,      1])"
      ]
     },
     "execution_count": 12,
     "metadata": {},
     "output_type": "execute_result"
    }
   ],
   "source": [
    "absolute"
   ]
  },
  {
   "cell_type": "code",
   "execution_count": 46,
   "metadata": {},
   "outputs": [],
   "source": [
    "def get_lines(country : str, rolling_window: int = 7):\n",
    "    df_sub = df[df['Country/Region']==country]\n",
    "    absolute = np.ravel(df_sub[df.columns[4:]].values)\n",
    "    new_cases = np.ravel(df_sub[df.columns[4:]].diff(axis=1).fillna(0))\n",
    "    new_cases_rolling = np.ravel(df_sub[df.columns[4:]].diff(axis=1).fillna(0).rolling(window=7, axis=1).mean().fillna(0))\n",
    "    return absolute, new_cases, new_cases_rolling"
   ]
  },
  {
   "cell_type": "code",
   "execution_count": null,
   "metadata": {},
   "outputs": [],
   "source": []
  },
  {
   "cell_type": "code",
   "execution_count": 38,
   "metadata": {},
   "outputs": [],
   "source": [
    "absolute, new, new_rol =  get_lines('Germany')\n",
    "x = list(range(0,len(new)))\n"
   ]
  },
  {
   "cell_type": "code",
   "execution_count": 39,
   "metadata": {},
   "outputs": [],
   "source": [
    "source = ColumnDataSource(data=dict(x=x,absolute=absolute, new=new, new_rol=new_rol ))"
   ]
  },
  {
   "cell_type": "code",
   "execution_count": 40,
   "metadata": {
    "collapsed": true,
    "jupyter": {
     "outputs_hidden": true
    }
   },
   "outputs": [
    {
     "data": {
      "text/plain": [
       "{'x': [0,\n",
       "  1,\n",
       "  2,\n",
       "  3,\n",
       "  4,\n",
       "  5,\n",
       "  6,\n",
       "  7,\n",
       "  8,\n",
       "  9,\n",
       "  10,\n",
       "  11,\n",
       "  12,\n",
       "  13,\n",
       "  14,\n",
       "  15,\n",
       "  16,\n",
       "  17,\n",
       "  18,\n",
       "  19,\n",
       "  20,\n",
       "  21,\n",
       "  22,\n",
       "  23,\n",
       "  24,\n",
       "  25,\n",
       "  26,\n",
       "  27,\n",
       "  28,\n",
       "  29,\n",
       "  30,\n",
       "  31,\n",
       "  32,\n",
       "  33,\n",
       "  34,\n",
       "  35,\n",
       "  36,\n",
       "  37,\n",
       "  38,\n",
       "  39,\n",
       "  40,\n",
       "  41,\n",
       "  42,\n",
       "  43,\n",
       "  44,\n",
       "  45,\n",
       "  46,\n",
       "  47,\n",
       "  48,\n",
       "  49,\n",
       "  50,\n",
       "  51,\n",
       "  52,\n",
       "  53,\n",
       "  54,\n",
       "  55,\n",
       "  56,\n",
       "  57,\n",
       "  58,\n",
       "  59,\n",
       "  60,\n",
       "  61,\n",
       "  62,\n",
       "  63,\n",
       "  64,\n",
       "  65,\n",
       "  66,\n",
       "  67,\n",
       "  68,\n",
       "  69,\n",
       "  70,\n",
       "  71,\n",
       "  72,\n",
       "  73,\n",
       "  74,\n",
       "  75,\n",
       "  76,\n",
       "  77,\n",
       "  78,\n",
       "  79,\n",
       "  80,\n",
       "  81,\n",
       "  82,\n",
       "  83,\n",
       "  84,\n",
       "  85,\n",
       "  86,\n",
       "  87,\n",
       "  88],\n",
       " 'absolute': array([     0,      0,      0,      0,      0,      1,      4,      4,\n",
       "             4,      5,      8,     10,     12,     12,     12,     12,\n",
       "            13,     13,     14,     14,     16,     16,     16,     16,\n",
       "            16,     16,     16,     16,     16,     16,     16,     16,\n",
       "            16,     16,     17,     27,     46,     48,     79,    130,\n",
       "           159,    196,    262,    482,    670,    799,   1040,   1176,\n",
       "          1457,   1908,   2078,   3675,   4585,   5795,   7272,   9257,\n",
       "         12327,  15320,  19848,  22213,  24873,  29056,  32986,  37323,\n",
       "         43938,  50871,  57695,  62095,  66885,  71808,  77872,  84794,\n",
       "         91159,  96092, 100123, 103374, 107663, 113296, 118181, 122171,\n",
       "        124908, 127854, 130072, 131359, 134753, 137698, 141397, 143342,\n",
       "        145184]),\n",
       " 'new': array([0.000e+00, 0.000e+00, 0.000e+00, 0.000e+00, 0.000e+00, 1.000e+00,\n",
       "        3.000e+00, 0.000e+00, 0.000e+00, 1.000e+00, 3.000e+00, 2.000e+00,\n",
       "        2.000e+00, 0.000e+00, 0.000e+00, 0.000e+00, 1.000e+00, 0.000e+00,\n",
       "        1.000e+00, 0.000e+00, 2.000e+00, 0.000e+00, 0.000e+00, 0.000e+00,\n",
       "        0.000e+00, 0.000e+00, 0.000e+00, 0.000e+00, 0.000e+00, 0.000e+00,\n",
       "        0.000e+00, 0.000e+00, 0.000e+00, 0.000e+00, 1.000e+00, 1.000e+01,\n",
       "        1.900e+01, 2.000e+00, 3.100e+01, 5.100e+01, 2.900e+01, 3.700e+01,\n",
       "        6.600e+01, 2.200e+02, 1.880e+02, 1.290e+02, 2.410e+02, 1.360e+02,\n",
       "        2.810e+02, 4.510e+02, 1.700e+02, 1.597e+03, 9.100e+02, 1.210e+03,\n",
       "        1.477e+03, 1.985e+03, 3.070e+03, 2.993e+03, 4.528e+03, 2.365e+03,\n",
       "        2.660e+03, 4.183e+03, 3.930e+03, 4.337e+03, 6.615e+03, 6.933e+03,\n",
       "        6.824e+03, 4.400e+03, 4.790e+03, 4.923e+03, 6.064e+03, 6.922e+03,\n",
       "        6.365e+03, 4.933e+03, 4.031e+03, 3.251e+03, 4.289e+03, 5.633e+03,\n",
       "        4.885e+03, 3.990e+03, 2.737e+03, 2.946e+03, 2.218e+03, 1.287e+03,\n",
       "        3.394e+03, 2.945e+03, 3.699e+03, 1.945e+03, 1.842e+03]),\n",
       " 'new_rol': array([0.00000000e+00, 0.00000000e+00, 0.00000000e+00, 0.00000000e+00,\n",
       "        0.00000000e+00, 0.00000000e+00, 5.71428571e-01, 5.71428571e-01,\n",
       "        5.71428571e-01, 7.14285714e-01, 1.14285714e+00, 1.42857143e+00,\n",
       "        1.57142857e+00, 1.14285714e+00, 1.14285714e+00, 1.14285714e+00,\n",
       "        1.14285714e+00, 7.14285714e-01, 5.71428571e-01, 2.85714286e-01,\n",
       "        5.71428571e-01, 5.71428571e-01, 5.71428571e-01, 4.28571429e-01,\n",
       "        4.28571429e-01, 2.85714286e-01, 2.85714286e-01, 0.00000000e+00,\n",
       "        0.00000000e+00, 0.00000000e+00, 0.00000000e+00, 0.00000000e+00,\n",
       "        0.00000000e+00, 0.00000000e+00, 1.42857143e-01, 1.57142857e+00,\n",
       "        4.28571429e+00, 4.57142857e+00, 9.00000000e+00, 1.62857143e+01,\n",
       "        2.04285714e+01, 2.55714286e+01, 3.35714286e+01, 6.22857143e+01,\n",
       "        8.88571429e+01, 1.02857143e+02, 1.30000000e+02, 1.45285714e+02,\n",
       "        1.80142857e+02, 2.35142857e+02, 2.28000000e+02, 4.29285714e+02,\n",
       "        5.40857143e+02, 6.79285714e+02, 8.70857143e+02, 1.11428571e+03,\n",
       "        1.48842857e+03, 1.89171429e+03, 2.31042857e+03, 2.51828571e+03,\n",
       "        2.72542857e+03, 3.11200000e+03, 3.38985714e+03, 3.57085714e+03,\n",
       "        4.08828571e+03, 4.43185714e+03, 5.06885714e+03, 5.31742857e+03,\n",
       "        5.40414286e+03, 5.54600000e+03, 5.79271429e+03, 5.83657143e+03,\n",
       "        5.75542857e+03, 5.48528571e+03, 5.43257143e+03, 5.21271429e+03,\n",
       "        5.12214286e+03, 5.06057143e+03, 4.76957143e+03, 4.43028571e+03,\n",
       "        4.11657143e+03, 3.96157143e+03, 3.81400000e+03, 3.38514286e+03,\n",
       "        3.06528571e+03, 2.78814286e+03, 2.74657143e+03, 2.63342857e+03,\n",
       "        2.47571429e+03])}"
      ]
     },
     "execution_count": 40,
     "metadata": {},
     "output_type": "execute_result"
    }
   ],
   "source": [
    "source.data"
   ]
  },
  {
   "cell_type": "code",
   "execution_count": 27,
   "metadata": {},
   "outputs": [
    {
     "data": {
      "text/html": [
       "<div style=\"display: table;\"><div style=\"display: table-row;\"><div style=\"display: table-cell;\"><b title=\"bokeh.models.renderers.GlyphRenderer\">GlyphRenderer</b>(</div><div style=\"display: table-cell;\">id&nbsp;=&nbsp;'1113', <span id=\"1116\" style=\"cursor: pointer;\">&hellip;)</span></div></div><div class=\"1115\" style=\"display: none;\"><div style=\"display: table-cell;\"></div><div style=\"display: table-cell;\">data_source&nbsp;=&nbsp;ColumnDataSource(id='1110', ...),</div></div><div class=\"1115\" style=\"display: none;\"><div style=\"display: table-cell;\"></div><div style=\"display: table-cell;\">glyph&nbsp;=&nbsp;Circle(id='1111', ...),</div></div><div class=\"1115\" style=\"display: none;\"><div style=\"display: table-cell;\"></div><div style=\"display: table-cell;\">hover_glyph&nbsp;=&nbsp;None,</div></div><div class=\"1115\" style=\"display: none;\"><div style=\"display: table-cell;\"></div><div style=\"display: table-cell;\">js_event_callbacks&nbsp;=&nbsp;{},</div></div><div class=\"1115\" style=\"display: none;\"><div style=\"display: table-cell;\"></div><div style=\"display: table-cell;\">js_property_callbacks&nbsp;=&nbsp;{},</div></div><div class=\"1115\" style=\"display: none;\"><div style=\"display: table-cell;\"></div><div style=\"display: table-cell;\">level&nbsp;=&nbsp;'glyph',</div></div><div class=\"1115\" style=\"display: none;\"><div style=\"display: table-cell;\"></div><div style=\"display: table-cell;\">muted&nbsp;=&nbsp;False,</div></div><div class=\"1115\" style=\"display: none;\"><div style=\"display: table-cell;\"></div><div style=\"display: table-cell;\">muted_glyph&nbsp;=&nbsp;None,</div></div><div class=\"1115\" style=\"display: none;\"><div style=\"display: table-cell;\"></div><div style=\"display: table-cell;\">name&nbsp;=&nbsp;None,</div></div><div class=\"1115\" style=\"display: none;\"><div style=\"display: table-cell;\"></div><div style=\"display: table-cell;\">nonselection_glyph&nbsp;=&nbsp;Circle(id='1112', ...),</div></div><div class=\"1115\" style=\"display: none;\"><div style=\"display: table-cell;\"></div><div style=\"display: table-cell;\">selection_glyph&nbsp;=&nbsp;None,</div></div><div class=\"1115\" style=\"display: none;\"><div style=\"display: table-cell;\"></div><div style=\"display: table-cell;\">subscribed_events&nbsp;=&nbsp;[],</div></div><div class=\"1115\" style=\"display: none;\"><div style=\"display: table-cell;\"></div><div style=\"display: table-cell;\">tags&nbsp;=&nbsp;[],</div></div><div class=\"1115\" style=\"display: none;\"><div style=\"display: table-cell;\"></div><div style=\"display: table-cell;\">view&nbsp;=&nbsp;CDSView(id='1114', ...),</div></div><div class=\"1115\" style=\"display: none;\"><div style=\"display: table-cell;\"></div><div style=\"display: table-cell;\">visible&nbsp;=&nbsp;True,</div></div><div class=\"1115\" style=\"display: none;\"><div style=\"display: table-cell;\"></div><div style=\"display: table-cell;\">x_range_name&nbsp;=&nbsp;'default',</div></div><div class=\"1115\" style=\"display: none;\"><div style=\"display: table-cell;\"></div><div style=\"display: table-cell;\">y_range_name&nbsp;=&nbsp;'default')</div></div></div>\n",
       "<script>\n",
       "(function() {\n",
       "  var expanded = false;\n",
       "  var ellipsis = document.getElementById(\"1116\");\n",
       "  ellipsis.addEventListener(\"click\", function() {\n",
       "    var rows = document.getElementsByClassName(\"1115\");\n",
       "    for (var i = 0; i < rows.length; i++) {\n",
       "      var el = rows[i];\n",
       "      el.style.display = expanded ? \"none\" : \"table-row\";\n",
       "    }\n",
       "    ellipsis.innerHTML = expanded ? \"&hellip;)\" : \"&lsaquo;&lsaquo;&lsaquo;\";\n",
       "    expanded = !expanded;\n",
       "  });\n",
       "})();\n",
       "</script>\n"
      ],
      "text/plain": [
       "GlyphRenderer(id='1113', ...)"
      ]
     },
     "execution_count": 27,
     "metadata": {},
     "output_type": "execute_result"
    }
   ],
   "source": [
    "p = figure(title=\"Newly Infected\", plot_height=300, plot_width=600, y_range=(-100,100),\n",
    "           background_fill_color='#efefef')\n",
    "p.circle(-25, 25, radius=5, color=(0.1, 0.3, 0.61), alpha=0.8)\n"
   ]
  },
  {
   "cell_type": "code",
   "execution_count": 43,
   "metadata": {},
   "outputs": [],
   "source": [
    "p = figure(title=\"Newly Infected\", plot_height=300, plot_width=600, y_range=(-100,max(new)+100),\n",
    "           background_fill_color='#efefef')\n",
    "r = p.line('x', 'new', source=source, color=\"#8888cc\", line_width=1.5, alpha=0.8)\n",
    "r = p.line('x', 'new_rol',source=source, color=\"red\", line_width=1.5, alpha=0.8)\n",
    "#r = p.line('x', 'new_rol', color=\"red\", line_width=1.5, alpha=0.8)\n",
    "multi_select = MultiSelect(title=\"Option:\", value=['Germany'],\n",
    "                           options=conttries)"
   ]
  },
  {
   "cell_type": "code",
   "execution_count": 48,
   "metadata": {},
   "outputs": [],
   "source": [
    "def update_data(attrname, old, new):\n",
    "    country = multi_select.value\n",
    "    absolute, new, new_rol  = get_lines(country)\n",
    "    x = list(range(0,len(new)))\n",
    "    source.data = dict(x=x,absolute=absolute, new=new, new_rol=new_rol )"
   ]
  },
  {
   "cell_type": "code",
   "execution_count": 49,
   "metadata": {},
   "outputs": [],
   "source": [
    "multi_select.on_change('value',update_data )"
   ]
  },
  {
   "cell_type": "code",
   "execution_count": 50,
   "metadata": {},
   "outputs": [
    {
     "name": "stderr",
     "output_type": "stream",
     "text": [
      "WARNING:bokeh.embed.util:\n",
      "You are generating standalone HTML/JS output, but trying to use real Python\n",
      "callbacks (i.e. with on_change or on_event). This combination cannot work.\n",
      "\n",
      "Only JavaScript callbacks may be used with standalone output. For more\n",
      "information on JavaScript callbacks with Bokeh, see:\n",
      "\n",
      "    https://docs.bokeh.org/en/latest/docs/user_guide/interaction/callbacks.html\n",
      "\n",
      "Alternatively, to use real Python callbacks, a Bokeh server application may\n",
      "be used. For more information on building and running Bokeh applications, see:\n",
      "\n",
      "    https://docs.bokeh.org/en/latest/docs/user_guide/server.html\n",
      "\n"
     ]
    },
    {
     "data": {
      "text/html": [
       "\n",
       "\n",
       "\n",
       "\n",
       "\n",
       "\n",
       "  <div class=\"bk-root\" id=\"c7331a2e-7878-49eb-b111-8ff522a9d56f\" data-root-id=\"2285\"></div>\n"
      ]
     },
     "metadata": {},
     "output_type": "display_data"
    },
    {
     "data": {
      "application/javascript": [
       "(function(root) {\n",
       "  function embed_document(root) {\n",
       "    \n",
       "  var docs_json = {\"d44931bf-bf51-44ac-b4de-7c195d549cee\":{\"roots\":{\"references\":[{\"attributes\":{\"options\":[[\"Afghanistan\",\"Afghanistan\"],[\"Albania\",\"Albania\"],[\"Algeria\",\"Algeria\"],[\"Andorra\",\"Andorra\"],[\"Angola\",\"Angola\"],[\"Antigua and Barbuda\",\"Antigua and Barbuda\"],[\"Argentina\",\"Argentina\"],[\"Armenia\",\"Armenia\"],[\"Australia\",\"Australia\"],[\"Austria\",\"Austria\"],[\"Azerbaijan\",\"Azerbaijan\"],[\"Bahamas\",\"Bahamas\"],[\"Bahrain\",\"Bahrain\"],[\"Bangladesh\",\"Bangladesh\"],[\"Barbados\",\"Barbados\"],[\"Belarus\",\"Belarus\"],[\"Belgium\",\"Belgium\"],[\"Benin\",\"Benin\"],[\"Bhutan\",\"Bhutan\"],[\"Bolivia\",\"Bolivia\"],[\"Bosnia and Herzegovina\",\"Bosnia and Herzegovina\"],[\"Brazil\",\"Brazil\"],[\"Brunei\",\"Brunei\"],[\"Bulgaria\",\"Bulgaria\"],[\"Burkina Faso\",\"Burkina Faso\"],[\"Cabo Verde\",\"Cabo Verde\"],[\"Cambodia\",\"Cambodia\"],[\"Cameroon\",\"Cameroon\"],[\"Canada\",\"Canada\"],[\"Central African Republic\",\"Central African Republic\"],[\"Chad\",\"Chad\"],[\"Chile\",\"Chile\"],[\"China\",\"China\"],[\"Colombia\",\"Colombia\"],[\"Congo (Brazzaville)\",\"Congo (Brazzaville)\"],[\"Congo (Kinshasa)\",\"Congo (Kinshasa)\"],[\"Costa Rica\",\"Costa Rica\"],[\"Cote d'Ivoire\",\"Cote d'Ivoire\"],[\"Croatia\",\"Croatia\"],[\"Diamond Princess\",\"Diamond Princess\"],[\"Cuba\",\"Cuba\"],[\"Cyprus\",\"Cyprus\"],[\"Czechia\",\"Czechia\"],[\"Denmark\",\"Denmark\"],[\"Djibouti\",\"Djibouti\"],[\"Dominican Republic\",\"Dominican Republic\"],[\"Ecuador\",\"Ecuador\"],[\"Egypt\",\"Egypt\"],[\"El Salvador\",\"El Salvador\"],[\"Equatorial Guinea\",\"Equatorial Guinea\"],[\"Eritrea\",\"Eritrea\"],[\"Estonia\",\"Estonia\"],[\"Eswatini\",\"Eswatini\"],[\"Ethiopia\",\"Ethiopia\"],[\"Fiji\",\"Fiji\"],[\"Finland\",\"Finland\"],[\"France\",\"France\"],[\"Gabon\",\"Gabon\"],[\"Gambia\",\"Gambia\"],[\"Georgia\",\"Georgia\"],[\"Germany\",\"Germany\"],[\"Ghana\",\"Ghana\"],[\"Greece\",\"Greece\"],[\"Guatemala\",\"Guatemala\"],[\"Guinea\",\"Guinea\"],[\"Guyana\",\"Guyana\"],[\"Haiti\",\"Haiti\"],[\"Holy See\",\"Holy See\"],[\"Honduras\",\"Honduras\"],[\"Hungary\",\"Hungary\"],[\"Iceland\",\"Iceland\"],[\"India\",\"India\"],[\"Indonesia\",\"Indonesia\"],[\"Iran\",\"Iran\"],[\"Iraq\",\"Iraq\"],[\"Ireland\",\"Ireland\"],[\"Israel\",\"Israel\"],[\"Italy\",\"Italy\"],[\"Jamaica\",\"Jamaica\"],[\"Japan\",\"Japan\"],[\"Jordan\",\"Jordan\"],[\"Kazakhstan\",\"Kazakhstan\"],[\"Kenya\",\"Kenya\"],[\"Korea, South\",\"Korea, South\"],[\"Kuwait\",\"Kuwait\"],[\"Kyrgyzstan\",\"Kyrgyzstan\"],[\"Latvia\",\"Latvia\"],[\"Lebanon\",\"Lebanon\"],[\"Liberia\",\"Liberia\"],[\"Liechtenstein\",\"Liechtenstein\"],[\"Lithuania\",\"Lithuania\"],[\"Luxembourg\",\"Luxembourg\"],[\"Madagascar\",\"Madagascar\"],[\"Malaysia\",\"Malaysia\"],[\"Maldives\",\"Maldives\"],[\"Malta\",\"Malta\"],[\"Mauritania\",\"Mauritania\"],[\"Mauritius\",\"Mauritius\"],[\"Mexico\",\"Mexico\"],[\"Moldova\",\"Moldova\"],[\"Monaco\",\"Monaco\"],[\"Mongolia\",\"Mongolia\"],[\"Montenegro\",\"Montenegro\"],[\"Morocco\",\"Morocco\"],[\"Namibia\",\"Namibia\"],[\"Nepal\",\"Nepal\"],[\"Netherlands\",\"Netherlands\"],[\"New Zealand\",\"New Zealand\"],[\"Nicaragua\",\"Nicaragua\"],[\"Niger\",\"Niger\"],[\"Nigeria\",\"Nigeria\"],[\"North Macedonia\",\"North Macedonia\"],[\"Norway\",\"Norway\"],[\"Oman\",\"Oman\"],[\"Pakistan\",\"Pakistan\"],[\"Panama\",\"Panama\"],[\"Papua New Guinea\",\"Papua New Guinea\"],[\"Paraguay\",\"Paraguay\"],[\"Peru\",\"Peru\"],[\"Philippines\",\"Philippines\"],[\"Poland\",\"Poland\"],[\"Portugal\",\"Portugal\"],[\"Qatar\",\"Qatar\"],[\"Romania\",\"Romania\"],[\"Russia\",\"Russia\"],[\"Rwanda\",\"Rwanda\"],[\"Saint Lucia\",\"Saint Lucia\"],[\"Saint Vincent and the Grenadines\",\"Saint Vincent and the Grenadines\"],[\"San Marino\",\"San Marino\"],[\"Saudi Arabia\",\"Saudi Arabia\"],[\"Senegal\",\"Senegal\"],[\"Serbia\",\"Serbia\"],[\"Seychelles\",\"Seychelles\"],[\"Singapore\",\"Singapore\"],[\"Slovakia\",\"Slovakia\"],[\"Slovenia\",\"Slovenia\"],[\"Somalia\",\"Somalia\"],[\"South Africa\",\"South Africa\"],[\"Spain\",\"Spain\"],[\"Sri Lanka\",\"Sri Lanka\"],[\"Sudan\",\"Sudan\"],[\"Suriname\",\"Suriname\"],[\"Sweden\",\"Sweden\"],[\"Switzerland\",\"Switzerland\"],[\"Taiwan*\",\"Taiwan*\"],[\"Tanzania\",\"Tanzania\"],[\"Thailand\",\"Thailand\"],[\"Togo\",\"Togo\"],[\"Trinidad and Tobago\",\"Trinidad and Tobago\"],[\"Tunisia\",\"Tunisia\"],[\"Turkey\",\"Turkey\"],[\"Uganda\",\"Uganda\"],[\"Ukraine\",\"Ukraine\"],[\"United Arab Emirates\",\"United Arab Emirates\"],[\"United Kingdom\",\"United Kingdom\"],[\"Uruguay\",\"Uruguay\"],[\"US\",\"US\"],[\"Uzbekistan\",\"Uzbekistan\"],[\"Venezuela\",\"Venezuela\"],[\"Vietnam\",\"Vietnam\"],[\"Zambia\",\"Zambia\"],[\"Zimbabwe\",\"Zimbabwe\"],[\"Dominica\",\"Dominica\"],[\"Grenada\",\"Grenada\"],[\"Mozambique\",\"Mozambique\"],[\"Syria\",\"Syria\"],[\"Timor-Leste\",\"Timor-Leste\"],[\"Belize\",\"Belize\"],[\"Laos\",\"Laos\"],[\"Libya\",\"Libya\"],[\"West Bank and Gaza\",\"West Bank and Gaza\"],[\"Guinea-Bissau\",\"Guinea-Bissau\"],[\"Mali\",\"Mali\"],[\"Saint Kitts and Nevis\",\"Saint Kitts and Nevis\"],[\"Kosovo\",\"Kosovo\"],[\"Burma\",\"Burma\"],[\"MS Zaandam\",\"MS Zaandam\"],[\"Botswana\",\"Botswana\"],[\"Burundi\",\"Burundi\"],[\"Sierra Leone\",\"Sierra Leone\"],[\"Malawi\",\"Malawi\"],[\"South Sudan\",\"South Sudan\"],[\"Western Sahara\",\"Western Sahara\"],[\"Sao Tome and Principe\",\"Sao Tome and Principe\"],[\"Yemen\",\"Yemen\"]],\"title\":\"Option:\",\"value\":[\"Germany\"]},\"id\":\"2285\",\"type\":\"MultiSelect\"}],\"root_ids\":[\"2285\"]},\"title\":\"Bokeh Application\",\"version\":\"2.0.1\"}};\n",
       "  var render_items = [{\"docid\":\"d44931bf-bf51-44ac-b4de-7c195d549cee\",\"notebook_comms_target\":\"2484\",\"root_ids\":[\"2285\"],\"roots\":{\"2285\":\"c7331a2e-7878-49eb-b111-8ff522a9d56f\"}}];\n",
       "  root.Bokeh.embed.embed_items_notebook(docs_json, render_items);\n",
       "\n",
       "  }\n",
       "  if (root.Bokeh !== undefined) {\n",
       "    embed_document(root);\n",
       "  } else {\n",
       "    var attempts = 0;\n",
       "    var timer = setInterval(function(root) {\n",
       "      if (root.Bokeh !== undefined) {\n",
       "        clearInterval(timer);\n",
       "        embed_document(root);\n",
       "      } else {\n",
       "        attempts++;\n",
       "        if (attempts > 100) {\n",
       "          clearInterval(timer);\n",
       "          console.log(\"Bokeh: ERROR: Unable to run BokehJS code because BokehJS library is missing\");\n",
       "        }\n",
       "      }\n",
       "    }, 10, root)\n",
       "  }\n",
       "})(window);"
      ],
      "application/vnd.bokehjs_exec.v0+json": ""
     },
     "metadata": {
      "application/vnd.bokehjs_exec.v0+json": {
       "id": "2285"
      }
     },
     "output_type": "display_data"
    },
    {
     "data": {
      "text/html": [
       "\n",
       "\n",
       "\n",
       "\n",
       "\n",
       "\n",
       "  <div class=\"bk-root\" id=\"c2725b3e-f0d9-4f51-aabe-f6199abcd049\" data-root-id=\"2242\"></div>\n"
      ]
     },
     "metadata": {},
     "output_type": "display_data"
    },
    {
     "data": {
      "application/javascript": [
       "(function(root) {\n",
       "  function embed_document(root) {\n",
       "    \n",
       "  var docs_json = {\"e3a2f48c-4116-4a9d-81d4-54d0c38bc1c6\":{\"roots\":{\"references\":[{\"attributes\":{\"background_fill_color\":\"#efefef\",\"below\":[{\"id\":\"2253\"}],\"center\":[{\"id\":\"2256\"},{\"id\":\"2260\"}],\"left\":[{\"id\":\"2257\"}],\"plot_height\":300,\"renderers\":[{\"id\":\"2278\"},{\"id\":\"2283\"}],\"title\":{\"id\":\"2243\"},\"toolbar\":{\"id\":\"2268\"},\"x_range\":{\"id\":\"2245\"},\"x_scale\":{\"id\":\"2249\"},\"y_range\":{\"id\":\"2247\"},\"y_scale\":{\"id\":\"2251\"}},\"id\":\"2242\",\"subtype\":\"Figure\",\"type\":\"Plot\"},{\"attributes\":{\"axis\":{\"id\":\"2253\"},\"ticker\":null},\"id\":\"2256\",\"type\":\"Grid\"},{\"attributes\":{},\"id\":\"2249\",\"type\":\"LinearScale\"},{\"attributes\":{},\"id\":\"2254\",\"type\":\"BasicTicker\"},{\"attributes\":{\"data_source\":{\"id\":\"2005\"},\"glyph\":{\"id\":\"2281\"},\"hover_glyph\":null,\"muted_glyph\":null,\"nonselection_glyph\":{\"id\":\"2282\"},\"selection_glyph\":null,\"view\":{\"id\":\"2284\"}},\"id\":\"2283\",\"type\":\"GlyphRenderer\"},{\"attributes\":{\"bottom_units\":\"screen\",\"fill_alpha\":0.5,\"fill_color\":\"lightgrey\",\"left_units\":\"screen\",\"level\":\"overlay\",\"line_alpha\":1.0,\"line_color\":\"black\",\"line_dash\":[4,4],\"line_width\":2,\"render_mode\":\"css\",\"right_units\":\"screen\",\"top_units\":\"screen\"},\"id\":\"2267\",\"type\":\"BoxAnnotation\"},{\"attributes\":{\"data_source\":{\"id\":\"2005\"},\"glyph\":{\"id\":\"2276\"},\"hover_glyph\":null,\"muted_glyph\":null,\"nonselection_glyph\":{\"id\":\"2277\"},\"selection_glyph\":null,\"view\":{\"id\":\"2279\"}},\"id\":\"2278\",\"type\":\"GlyphRenderer\"},{\"attributes\":{\"source\":{\"id\":\"2005\"}},\"id\":\"2284\",\"type\":\"CDSView\"},{\"attributes\":{\"overlay\":{\"id\":\"2267\"}},\"id\":\"2263\",\"type\":\"BoxZoomTool\"},{\"attributes\":{},\"id\":\"2251\",\"type\":\"LinearScale\"},{\"attributes\":{\"text\":\"Newly Infected\"},\"id\":\"2243\",\"type\":\"Title\"},{\"attributes\":{\"line_alpha\":0.8,\"line_color\":\"#8888cc\",\"line_width\":1.5,\"x\":{\"field\":\"x\"},\"y\":{\"field\":\"new\"}},\"id\":\"2276\",\"type\":\"Line\"},{\"attributes\":{\"formatter\":{\"id\":\"2428\"},\"ticker\":{\"id\":\"2258\"}},\"id\":\"2257\",\"type\":\"LinearAxis\"},{\"attributes\":{},\"id\":\"2261\",\"type\":\"PanTool\"},{\"attributes\":{},\"id\":\"2265\",\"type\":\"ResetTool\"},{\"attributes\":{},\"id\":\"2258\",\"type\":\"BasicTicker\"},{\"attributes\":{\"axis\":{\"id\":\"2257\"},\"dimension\":1,\"ticker\":null},\"id\":\"2260\",\"type\":\"Grid\"},{\"attributes\":{\"active_drag\":\"auto\",\"active_inspect\":\"auto\",\"active_multi\":null,\"active_scroll\":\"auto\",\"active_tap\":\"auto\",\"tools\":[{\"id\":\"2261\"},{\"id\":\"2262\"},{\"id\":\"2263\"},{\"id\":\"2264\"},{\"id\":\"2265\"},{\"id\":\"2266\"}]},\"id\":\"2268\",\"type\":\"Toolbar\"},{\"attributes\":{},\"id\":\"2264\",\"type\":\"SaveTool\"},{\"attributes\":{},\"id\":\"2266\",\"type\":\"HelpTool\"},{\"attributes\":{\"formatter\":{\"id\":\"2430\"},\"ticker\":{\"id\":\"2254\"}},\"id\":\"2253\",\"type\":\"LinearAxis\"},{\"attributes\":{},\"id\":\"2178\",\"type\":\"Selection\"},{\"attributes\":{\"line_alpha\":0.1,\"line_color\":\"#8888cc\",\"line_width\":1.5,\"x\":{\"field\":\"x\"},\"y\":{\"field\":\"new\"}},\"id\":\"2277\",\"type\":\"Line\"},{\"attributes\":{\"data\":{\"absolute\":[0,0,0,0,0,1,4,4,4,5,8,10,12,12,12,12,13,13,14,14,16,16,16,16,16,16,16,16,16,16,16,16,16,16,17,27,46,48,79,130,159,196,262,482,670,799,1040,1176,1457,1908,2078,3675,4585,5795,7272,9257,12327,15320,19848,22213,24873,29056,32986,37323,43938,50871,57695,62095,66885,71808,77872,84794,91159,96092,100123,103374,107663,113296,118181,122171,124908,127854,130072,131359,134753,137698,141397,143342,145184],\"new\":{\"__ndarray__\":\"AAAAAAAAAAAAAAAAAAAAAAAAAAAAAAAAAAAAAAAAAAAAAAAAAAAAAAAAAAAAAPA/AAAAAAAACEAAAAAAAAAAAAAAAAAAAAAAAAAAAAAA8D8AAAAAAAAIQAAAAAAAAABAAAAAAAAAAEAAAAAAAAAAAAAAAAAAAAAAAAAAAAAAAAAAAAAAAADwPwAAAAAAAAAAAAAAAAAA8D8AAAAAAAAAAAAAAAAAAABAAAAAAAAAAAAAAAAAAAAAAAAAAAAAAAAAAAAAAAAAAAAAAAAAAAAAAAAAAAAAAAAAAAAAAAAAAAAAAAAAAAAAAAAAAAAAAAAAAAAAAAAAAAAAAAAAAAAAAAAAAAAAAAAAAAAAAAAAAAAAAAAAAADwPwAAAAAAACRAAAAAAAAAM0AAAAAAAAAAQAAAAAAAAD9AAAAAAACASUAAAAAAAAA9QAAAAAAAgEJAAAAAAACAUEAAAAAAAIBrQAAAAAAAgGdAAAAAAAAgYEAAAAAAACBuQAAAAAAAAGFAAAAAAACQcUAAAAAAADB8QAAAAAAAQGVAAAAAAAD0mEAAAAAAAHCMQAAAAAAA6JJAAAAAAAAUl0AAAAAAAASfQAAAAAAA/KdAAAAAAABip0AAAAAAALCxQAAAAAAAeqJAAAAAAADIpEAAAAAAAFewQAAAAAAAtK5AAAAAAADxsEAAAAAAANe5QAAAAAAAFbtAAAAAAACoukAAAAAAADCxQAAAAAAAtrJAAAAAAAA7s0AAAAAAALC3QAAAAAAACrtAAAAAAADduEAAAAAAAEWzQAAAAAAAfq9AAAAAAABmqUAAAAAAAMGwQAAAAAAAAbZAAAAAAAAVs0AAAAAAACyvQAAAAAAAYqVAAAAAAAAEp0AAAAAAAFShQAAAAAAAHJRAAAAAAACEqkAAAAAAAAKnQAAAAAAA5qxAAAAAAABknkAAAAAAAMicQA==\",\"dtype\":\"float64\",\"shape\":[89]},\"new_rol\":{\"__ndarray__\":\"AAAAAAAAAAAAAAAAAAAAAAAAAAAAAAAAAAAAAAAAAAAAAAAAAAAAAAAAAAAAAAAAkiRJkiRJ4j+SJEmSJEniP5IkSZIkSeI/t23btm3b5j+SJEmSJEnyP7dt27Zt2/Y/SZIkSZIk+T+SJEmSJEnyP5IkSZIkSfI/kiRJkiRJ8j+SJEmSJEnyP7dt27Zt2+Y/kiRJkiRJ4j+SJEmSJEnSP5IkSZIkSeI/kiRJkiRJ4j+SJEmSJEniP9u2bdu2bds/27Zt27Zt2z+SJEmSJEnSP5IkSZIkSdI/AAAAAAAAAAAAAAAAAAAAAAAAAAAAAAAAAAAAAAAAAAAAAAAAAAAAAAAAAAAAAAAAAAAAAAAAAACSJEmSJEnCP0mSJEmSJPk/SZIkSZIkEUCSJEmSJEkSQAAAAAAAACJAkiRJkiRJMEDbtm3btm00QCVJkiRJkjlAkiRJkiTJQEBJkiRJkiRPQG7btm3bNlZAbtu2bdu2WUAAAAAAAEBgQJIkSZIkKWJASZIkSZKEZkBJkiRJkmRtQAAAAAAAgGxASZIkSZLUekBu27Zt2+aAQCVJkiRJOoVAbtu2bds2i0CSJEmSJGmRQNu2bdu2QZdAbtu2bduOnUBu27Zt2wyiQEmSJEmSrKNAbtu2bdtKpUAAAAAAAFCoQNu2bdu2e6pA27Zt27blq0BJkiRJkvCvQG7btm3bT7FAbtu2bdvMs0C3bdu2bcW0QJIkSZIkHLVAAAAAAACqtUDbtm3btqC2QEmSJEmSzLZAt23btm17tkAlSZIkSW21QEmSJEmSOLVA27Zt27ZctECSJEmSJAK0QEmSJEmSxLNASZIkSZKhskAlSZIkSU6xQEmSJEmSFLBAkiRJkiTzrkAAAAAAAMytQCVJkiRJcqpASZIkSZLyp0AlSZIkScilQJIkSZIkdaVAbtu2bduSpEC3bdu2bVejQA==\",\"dtype\":\"float64\",\"shape\":[89]},\"x\":[0,1,2,3,4,5,6,7,8,9,10,11,12,13,14,15,16,17,18,19,20,21,22,23,24,25,26,27,28,29,30,31,32,33,34,35,36,37,38,39,40,41,42,43,44,45,46,47,48,49,50,51,52,53,54,55,56,57,58,59,60,61,62,63,64,65,66,67,68,69,70,71,72,73,74,75,76,77,78,79,80,81,82,83,84,85,86,87,88]},\"selected\":{\"id\":\"2178\"},\"selection_policy\":{\"id\":\"2177\"}},\"id\":\"2005\",\"type\":\"ColumnDataSource\"},{\"attributes\":{},\"id\":\"2262\",\"type\":\"WheelZoomTool\"},{\"attributes\":{\"line_alpha\":0.8,\"line_color\":\"red\",\"line_width\":1.5,\"x\":{\"field\":\"x\"},\"y\":{\"field\":\"new_rol\"}},\"id\":\"2281\",\"type\":\"Line\"},{\"attributes\":{\"line_alpha\":0.1,\"line_color\":\"red\",\"line_width\":1.5,\"x\":{\"field\":\"x\"},\"y\":{\"field\":\"new_rol\"}},\"id\":\"2282\",\"type\":\"Line\"},{\"attributes\":{\"source\":{\"id\":\"2005\"}},\"id\":\"2279\",\"type\":\"CDSView\"},{\"attributes\":{\"end\":7033.0,\"start\":-100},\"id\":\"2247\",\"type\":\"Range1d\"},{\"attributes\":{},\"id\":\"2430\",\"type\":\"BasicTickFormatter\"},{\"attributes\":{},\"id\":\"2177\",\"type\":\"UnionRenderers\"},{\"attributes\":{},\"id\":\"2245\",\"type\":\"DataRange1d\"},{\"attributes\":{},\"id\":\"2428\",\"type\":\"BasicTickFormatter\"}],\"root_ids\":[\"2242\"]},\"title\":\"Bokeh Application\",\"version\":\"2.0.1\"}};\n",
       "  var render_items = [{\"docid\":\"e3a2f48c-4116-4a9d-81d4-54d0c38bc1c6\",\"notebook_comms_target\":\"2485\",\"root_ids\":[\"2242\"],\"roots\":{\"2242\":\"c2725b3e-f0d9-4f51-aabe-f6199abcd049\"}}];\n",
       "  root.Bokeh.embed.embed_items_notebook(docs_json, render_items);\n",
       "\n",
       "  }\n",
       "  if (root.Bokeh !== undefined) {\n",
       "    embed_document(root);\n",
       "  } else {\n",
       "    var attempts = 0;\n",
       "    var timer = setInterval(function(root) {\n",
       "      if (root.Bokeh !== undefined) {\n",
       "        clearInterval(timer);\n",
       "        embed_document(root);\n",
       "      } else {\n",
       "        attempts++;\n",
       "        if (attempts > 100) {\n",
       "          clearInterval(timer);\n",
       "          console.log(\"Bokeh: ERROR: Unable to run BokehJS code because BokehJS library is missing\");\n",
       "        }\n",
       "      }\n",
       "    }, 10, root)\n",
       "  }\n",
       "})(window);"
      ],
      "application/vnd.bokehjs_exec.v0+json": ""
     },
     "metadata": {
      "application/vnd.bokehjs_exec.v0+json": {
       "id": "2242"
      }
     },
     "output_type": "display_data"
    },
    {
     "data": {
      "text/html": [
       "<p><code>&lt;Bokeh Notebook handle for <strong>In[50]</strong>&gt;</code></p>"
      ],
      "text/plain": [
       "<bokeh.io.notebook.CommsHandle at 0x7ff09d22fca0>"
      ]
     },
     "execution_count": 50,
     "metadata": {},
     "output_type": "execute_result"
    }
   ],
   "source": [
    "show(multi_select,notebook_handle=True)\n",
    "show(p, notebook_handle=True)"
   ]
  },
  {
   "cell_type": "code",
   "execution_count": 52,
   "metadata": {},
   "outputs": [
    {
     "data": {
      "text/plain": [
       "dict_keys(['x', 'absolute', 'new', 'new_rol'])"
      ]
     },
     "execution_count": 52,
     "metadata": {},
     "output_type": "execute_result"
    }
   ],
   "source": [
    "source.data.keys()"
   ]
  },
  {
   "cell_type": "code",
   "execution_count": 40,
   "metadata": {},
   "outputs": [
    {
     "data": {
      "text/plain": [
       "'4/20/20'"
      ]
     },
     "execution_count": 40,
     "metadata": {},
     "output_type": "execute_result"
    }
   ],
   "source": [
    "df.columns[-1]"
   ]
  },
  {
   "cell_type": "code",
   "execution_count": 41,
   "metadata": {},
   "outputs": [
    {
     "data": {
      "text/plain": [
       "Province/State     object\n",
       "Country/Region     object\n",
       "Lat               float64\n",
       "Long              float64\n",
       "1/22/20             int64\n",
       "                   ...   \n",
       "4/16/20             int64\n",
       "4/17/20             int64\n",
       "4/18/20             int64\n",
       "4/19/20             int64\n",
       "4/20/20             int64\n",
       "Length: 94, dtype: object"
      ]
     },
     "execution_count": 41,
     "metadata": {},
     "output_type": "execute_result"
    }
   ],
   "source": [
    "df.dtypes"
   ]
  },
  {
   "cell_type": "code",
   "execution_count": 168,
   "metadata": {},
   "outputs": [],
   "source": [
    "from math import log10, log, ceil"
   ]
  },
  {
   "cell_type": "code",
   "execution_count": 172,
   "metadata": {},
   "outputs": [
    {
     "data": {
      "text/plain": [
       "<matplotlib.axes._subplots.AxesSubplot at 0x7f39b6b4af70>"
      ]
     },
     "execution_count": 172,
     "metadata": {},
     "output_type": "execute_result"
    },
    {
     "data": {
      "image/png": "[encoded data removed]",
      "text/plain": [
       "<Figure size 432x288 with 1 Axes>"
      ]
     },
     "metadata": {
      "needs_background": "light"
     },
     "output_type": "display_data"
    }
   ],
   "source": [
    "df[df.columns[-1]].apply(lambda x: ceil(log(x)*5) if x>1 else 1).plot()"
   ]
  },
  {
   "cell_type": "code",
   "execution_count": 63,
   "metadata": {},
   "outputs": [
    {
     "data": {
      "text/plain": [
       "[264]"
      ]
     },
     "execution_count": 63,
     "metadata": {},
     "output_type": "execute_result"
    }
   ],
   "source": [
    "[len(df)*1]"
   ]
  },
  {
   "cell_type": "code",
   "execution_count": 65,
   "metadata": {},
   "outputs": [
    {
     "data": {
      "text/plain": [
       "array([1., 1., 1., 1., 1., 1., 1., 1., 1., 1., 1., 1., 1., 1., 1., 1., 1.,\n",
       "       1., 1., 1., 1., 1., 1., 1., 1., 1., 1., 1., 1., 1., 1., 1., 1., 1.,\n",
       "       1., 1., 1., 1., 1., 1., 1., 1., 1., 1., 1., 1., 1., 1., 1., 1., 1.,\n",
       "       1., 1., 1., 1., 1., 1., 1., 1., 1., 1., 1., 1., 1., 1., 1., 1., 1.,\n",
       "       1., 1., 1., 1., 1., 1., 1., 1., 1., 1., 1., 1., 1., 1., 1., 1., 1.,\n",
       "       1., 1., 1., 1., 1., 1., 1., 1., 1., 1., 1., 1., 1., 1., 1., 1., 1.,\n",
       "       1., 1., 1., 1., 1., 1., 1., 1., 1., 1., 1., 1., 1., 1., 1., 1., 1.,\n",
       "       1., 1., 1., 1., 1., 1., 1., 1., 1., 1., 1., 1., 1., 1., 1., 1., 1.,\n",
       "       1., 1., 1., 1., 1., 1., 1., 1., 1., 1., 1., 1., 1., 1., 1., 1., 1.,\n",
       "       1., 1., 1., 1., 1., 1., 1., 1., 1., 1., 1., 1., 1., 1., 1., 1., 1.,\n",
       "       1., 1., 1., 1., 1., 1., 1., 1., 1., 1., 1., 1., 1., 1., 1., 1., 1.,\n",
       "       1., 1., 1., 1., 1., 1., 1., 1., 1., 1., 1., 1., 1., 1., 1., 1., 1.,\n",
       "       1., 1., 1., 1., 1., 1., 1., 1., 1., 1., 1., 1., 1., 1., 1., 1., 1.,\n",
       "       1., 1., 1., 1., 1., 1., 1., 1., 1., 1., 1., 1., 1., 1., 1., 1., 1.,\n",
       "       1., 1., 1., 1., 1., 1., 1., 1., 1., 1., 1., 1., 1., 1., 1., 1., 1.,\n",
       "       1., 1., 1., 1., 1., 1., 1., 1., 1.])"
      ]
     },
     "execution_count": 65,
     "metadata": {},
     "output_type": "execute_result"
    }
   ],
   "source": [
    "np.ones(len(df))"
   ]
  },
  {
   "cell_type": "code",
   "execution_count": 71,
   "metadata": {},
   "outputs": [],
   "source": [
    "circle_source = ColumnDataSource(dict(x=df[\"Long\"].values,\n",
    "                                      y=df[\"Lat\"].values,\n",
    "                                      sizes=np.ones(len(df))\n",
    "                                      )\n",
    "                                 )"
   ]
  },
  {
   "cell_type": "code",
   "execution_count": 72,
   "metadata": {},
   "outputs": [
    {
     "data": {
      "text/plain": [
       "{'x': array([  65.      ,   20.1683  ,    1.6596  ,    1.5218  ,   17.8739  ,\n",
       "         -61.7964  ,  -63.6167  ,   45.0382  ,  149.0124  ,  151.2093  ,\n",
       "         130.8456  ,  153.4     ,  138.6007  ,  145.9707  ,  144.9631  ,\n",
       "         115.8605  ,   14.5501  ,   47.5769  ,  -77.3963  ,   50.55    ,\n",
       "          90.3563  ,  -59.5432  ,   27.9534  ,    4.      ,    2.3158  ,\n",
       "          90.4336  ,  -63.5887  ,   17.6791  ,  -51.9253  ,  114.7277  ,\n",
       "          25.4858  ,   -1.5616  ,  -23.0418  ,  104.9167  ,   11.5021  ,\n",
       "        -116.5765  , -123.1207  , -122.6655  ,  -98.8139  ,  -66.4619  ,\n",
       "         -57.6604  ,  -63.7443  ,  -85.3232  ,  -63.4168  ,  -73.5491  ,\n",
       "        -106.4509  ,   20.9394  ,   18.7322  ,  -71.543   ,  117.2264  ,\n",
       "         116.4142  ,  107.874   ,  117.9874  ,  101.0583  ,  113.4244  ,\n",
       "         108.7881  ,  106.8748  ,  109.7453  ,  116.1306  ,  127.7615  ,\n",
       "         113.614   ,  114.2     ,  112.2707  ,  111.7088  ,  113.9448  ,\n",
       "         119.455   ,  115.7221  ,  126.1923  ,  122.6085  ,  113.55    ,\n",
       "         106.1655  ,   95.9956  ,  108.8701  ,  118.1498  ,  121.4491  ,\n",
       "         112.2922  ,  102.7103  ,  117.323   ,   88.0924  ,   85.2401  ,\n",
       "         101.487   ,  120.0934  ,  -74.2973  ,   21.7587  ,   21.7587  ,\n",
       "         -83.7534  ,   -5.5471  ,   15.2     ,    0.      ,  -80.      ,\n",
       "          33.4299  ,   15.473   ,   -6.9118  ,  -42.6043  ,    9.5018  ,\n",
       "          42.5903  ,  -70.1627  ,  -78.1834  ,   30.      ,  -88.8965  ,\n",
       "          10.      ,   39.7823  ,   25.0136  ,   31.4659  ,   40.4897  ,\n",
       "         178.065   ,   26.      ,  -53.1258  ,  149.4068  ,  -61.5833  ,\n",
       "          45.1662  ,  165.618   ,   55.2471  ,  -62.8333  ,  -63.0501  ,\n",
       "         -61.0242  ,    2.2137  ,   11.6094  ,  -15.3101  ,   43.3569  ,\n",
       "           9.      ,   -1.0232  ,   21.8243  ,  -90.2308  ,   -9.6966  ,\n",
       "         -58.75    ,  -72.2852  ,   12.4534  ,  -86.2419  ,   19.5033  ,\n",
       "         -19.0208  ,   78.      ,  113.9213  ,   53.      ,   44.      ,\n",
       "          -7.6921  ,   35.      ,   12.      ,  -77.2975  ,  138.      ,\n",
       "          36.51    ,   66.9237  ,   37.9062  ,  128.      ,   47.75    ,\n",
       "          74.7661  ,   24.6032  ,   35.8623  ,   -9.4295  ,    9.55    ,\n",
       "          23.8813  ,    6.1296  ,   46.8691  ,  112.5     ,   73.2207  ,\n",
       "          14.3754  ,   10.9408  ,   57.5     , -102.5528  ,   28.3699  ,\n",
       "           7.4167  ,  103.8467  ,   19.3     ,   -7.0926  ,   18.4904  ,\n",
       "          84.25    ,  -70.0358  ,  -68.99    ,  -63.0548  ,    5.2913  ,\n",
       "         174.886   ,  -85.2072  ,    8.0817  ,    8.6753  ,   21.7453  ,\n",
       "           8.4689  ,   57.      ,   69.3451  ,  -80.7821  ,  143.9555  ,\n",
       "         -58.4438  ,  -75.0152  ,  122.      ,   19.1451  ,   -8.2245  ,\n",
       "          51.1839  ,   24.9668  ,   90.      ,   29.8739  ,  -60.9789  ,\n",
       "         -61.2872  ,   12.4578  ,   45.      ,  -14.4524  ,   21.0059  ,\n",
       "          55.492   ,  103.8333  ,   19.699   ,   14.9955  ,   46.1996  ,\n",
       "          22.9375  ,   -4.      ,   81.      ,   30.2176  ,  -56.0278  ,\n",
       "          16.      ,    8.2275  ,  121.      ,   34.8888  ,  101.      ,\n",
       "           0.8248  ,  -61.2225  ,    9.      ,   35.2433  ,   32.      ,\n",
       "          31.1656  ,   54.      ,  -64.7505  ,  -81.2546  ,   -2.3644  ,\n",
       "          -5.3536  ,   -4.5481  ,  -62.1874  ,   -3.436   ,  -55.7658  ,\n",
       "         -95.7129  ,   64.5853  ,  -66.5897  ,  108.      ,   28.2833  ,\n",
       "          30.      ,    0.      ,  -61.371   ,  -61.679   ,   35.529562,\n",
       "          38.996815,  125.727539,  -59.5432  ,    0.      ,  102.495496,\n",
       "          17.228331,   35.2332  ,  -15.1804  ,   -3.996166,  -62.782998,\n",
       "        -124.8457  , -135.      ,   20.902977,   95.956   ,  -63.0686  ,\n",
       "         -64.64    ,  -71.7979  ,    0.      ,   24.6849  ,   29.9189  ,\n",
       "         -11.779889,  -68.2385  ,   34.301525,  -59.5236  ,  -56.3159  ,\n",
       "          31.307   ,  -12.8858  ,    6.613081,   48.516388]),\n",
       " 'y': array([ 3.3000000e+01,  4.1153300e+01,  2.8033900e+01,  4.2506300e+01,\n",
       "        -1.1202700e+01,  1.7060800e+01, -3.8416100e+01,  4.0069100e+01,\n",
       "        -3.5473500e+01, -3.3868800e+01, -1.2463400e+01, -2.8016700e+01,\n",
       "        -3.4928500e+01, -4.1454500e+01, -3.7813600e+01, -3.1950500e+01,\n",
       "         4.7516200e+01,  4.0143100e+01,  2.5034300e+01,  2.6027500e+01,\n",
       "         2.3685000e+01,  1.3193900e+01,  5.3709800e+01,  5.0833300e+01,\n",
       "         9.3077000e+00,  2.7514200e+01, -1.6290200e+01,  4.3915900e+01,\n",
       "        -1.4235000e+01,  4.5353000e+00,  4.2733900e+01,  1.2238300e+01,\n",
       "         1.6538800e+01,  1.1550000e+01,  3.8480000e+00,  5.3933300e+01,\n",
       "         4.9282700e+01,  3.7648900e+01,  5.3760900e+01,  4.6565300e+01,\n",
       "         5.3135500e+01,  4.4682000e+01,  5.1253800e+01,  4.6510700e+01,\n",
       "         5.2939900e+01,  5.2939900e+01,  6.6111000e+00,  1.5454200e+01,\n",
       "        -3.5675100e+01,  3.1825700e+01,  4.0182400e+01,  3.0057200e+01,\n",
       "         2.6078900e+01,  3.7809900e+01,  2.3341700e+01,  2.3829800e+01,\n",
       "         2.6815400e+01,  1.9195900e+01,  3.9549000e+01,  4.7862000e+01,\n",
       "         3.3882000e+01,  2.2300000e+01,  3.0975600e+01,  2.7610400e+01,\n",
       "         4.4093500e+01,  3.2971100e+01,  2.7614000e+01,  4.3666100e+01,\n",
       "         4.1295600e+01,  2.2166700e+01,  3.7269200e+01,  3.5745200e+01,\n",
       "         3.5191700e+01,  3.6342700e+01,  3.1202000e+01,  3.7577700e+01,\n",
       "         3.0617100e+01,  3.9305400e+01,  3.1692700e+01,  4.1112900e+01,\n",
       "         2.4974000e+01,  2.9183200e+01,  4.5709000e+00, -4.0383000e+00,\n",
       "        -4.0383000e+00,  9.7489000e+00,  7.5400000e+00,  4.5100000e+01,\n",
       "         0.0000000e+00,  2.2000000e+01,  3.5126400e+01,  4.9817500e+01,\n",
       "         6.1892600e+01,  7.1706900e+01,  5.6263900e+01,  1.1825100e+01,\n",
       "         1.8735700e+01, -1.8312000e+00,  2.6000000e+01,  1.3794200e+01,\n",
       "         1.5000000e+00,  1.5179400e+01,  5.8595300e+01, -2.6522500e+01,\n",
       "         9.1450000e+00, -1.7713400e+01,  6.4000000e+01,  3.9339000e+00,\n",
       "        -1.7679700e+01,  1.6250000e+01, -1.2827500e+01, -2.0904300e+01,\n",
       "        -2.1135100e+01,  1.7900000e+01,  1.8070800e+01,  1.4641500e+01,\n",
       "         4.6227600e+01, -8.0370000e-01,  1.3443200e+01,  4.2315400e+01,\n",
       "         5.1000000e+01,  7.9465000e+00,  3.9074200e+01,  1.5783500e+01,\n",
       "         9.9456000e+00,  5.0000000e+00,  1.8971200e+01,  4.1902900e+01,\n",
       "         1.5200000e+01,  4.7162500e+01,  6.4963100e+01,  2.1000000e+01,\n",
       "        -7.8930000e-01,  3.2000000e+01,  3.3000000e+01,  5.3142400e+01,\n",
       "         3.1000000e+01,  4.3000000e+01,  1.8109600e+01,  3.6000000e+01,\n",
       "         3.1240000e+01,  4.8019600e+01, -2.3600000e-02,  3.6000000e+01,\n",
       "         2.9500000e+01,  4.1204400e+01,  5.6879600e+01,  3.3854700e+01,\n",
       "         6.4281000e+00,  4.7140000e+01,  5.5169400e+01,  4.9815300e+01,\n",
       "        -1.8766900e+01,  2.5000000e+00,  3.2028000e+00,  3.5937500e+01,\n",
       "         2.1007900e+01, -2.0200000e+01,  2.3634500e+01,  4.7411600e+01,\n",
       "         4.3733300e+01,  4.6862500e+01,  4.2500000e+01,  3.1791700e+01,\n",
       "        -2.2957600e+01,  2.8166700e+01,  1.2518600e+01,  1.2169600e+01,\n",
       "         1.8042500e+01,  5.2132600e+01, -4.0900600e+01,  1.2865400e+01,\n",
       "         1.7607800e+01,  9.0820000e+00,  4.1608600e+01,  6.0472000e+01,\n",
       "         2.1000000e+01,  3.0375300e+01,  8.5380000e+00, -6.3150000e+00,\n",
       "        -2.3442500e+01, -9.1900000e+00,  1.3000000e+01,  5.1919400e+01,\n",
       "         3.9399900e+01,  2.5354800e+01,  4.5943200e+01,  6.0000000e+01,\n",
       "        -1.9403000e+00,  1.3909400e+01,  1.2984300e+01,  4.3942400e+01,\n",
       "         2.4000000e+01,  1.4497400e+01,  4.4016500e+01, -4.6796000e+00,\n",
       "         1.2833000e+00,  4.8669000e+01,  4.6151200e+01,  5.1521000e+00,\n",
       "        -3.0559500e+01,  4.0000000e+01,  7.0000000e+00,  1.2862800e+01,\n",
       "         3.9193000e+00,  6.3000000e+01,  4.6818200e+01,  2.3700000e+01,\n",
       "        -6.3690000e+00,  1.5000000e+01,  8.6195000e+00,  1.0691800e+01,\n",
       "         3.4000000e+01,  3.8963700e+01,  1.0000000e+00,  4.8379400e+01,\n",
       "         2.4000000e+01,  3.2307800e+01,  1.9313300e+01,  4.9372300e+01,\n",
       "         3.6140800e+01,  5.4236100e+01,  1.6742500e+01,  5.5378100e+01,\n",
       "        -3.2522800e+01,  3.7090200e+01,  4.1377500e+01,  6.4238000e+00,\n",
       "         1.6000000e+01, -1.5416700e+01, -2.0000000e+01,  0.0000000e+00,\n",
       "         1.5415000e+01,  1.2116500e+01, -1.8665695e+01,  3.4802075e+01,\n",
       "        -8.8742170e+00,  1.3193900e+01,  0.0000000e+00,  1.9856270e+01,\n",
       "         2.6335100e+01,  3.1952200e+01,  1.1803700e+01,  1.7570692e+01,\n",
       "         1.7357822e+01,  6.4825500e+01,  6.4282300e+01,  4.2602636e+01,\n",
       "         2.1916200e+01,  1.8220600e+01,  1.8420700e+01,  2.1694000e+01,\n",
       "         0.0000000e+00, -2.2328500e+01, -3.3731000e+00,  8.4605550e+00,\n",
       "         1.2178400e+01, -1.3254308e+01, -5.1796300e+01,  4.6885200e+01,\n",
       "         6.8770000e+00,  2.4215500e+01,  1.8636000e-01,  1.5552727e+01]),\n",
       " 'sizes': array([1., 1., 1., 1., 1., 1., 1., 1., 1., 1., 1., 1., 1., 1., 1., 1., 1.,\n",
       "        1., 1., 1., 1., 1., 1., 1., 1., 1., 1., 1., 1., 1., 1., 1., 1., 1.,\n",
       "        1., 1., 1., 1., 1., 1., 1., 1., 1., 1., 1., 1., 1., 1., 1., 1., 1.,\n",
       "        1., 1., 1., 1., 1., 1., 1., 1., 1., 1., 1., 1., 1., 1., 1., 1., 1.,\n",
       "        1., 1., 1., 1., 1., 1., 1., 1., 1., 1., 1., 1., 1., 1., 1., 1., 1.,\n",
       "        1., 1., 1., 1., 1., 1., 1., 1., 1., 1., 1., 1., 1., 1., 1., 1., 1.,\n",
       "        1., 1., 1., 1., 1., 1., 1., 1., 1., 1., 1., 1., 1., 1., 1., 1., 1.,\n",
       "        1., 1., 1., 1., 1., 1., 1., 1., 1., 1., 1., 1., 1., 1., 1., 1., 1.,\n",
       "        1., 1., 1., 1., 1., 1., 1., 1., 1., 1., 1., 1., 1., 1., 1., 1., 1.,\n",
       "        1., 1., 1., 1., 1., 1., 1., 1., 1., 1., 1., 1., 1., 1., 1., 1., 1.,\n",
       "        1., 1., 1., 1., 1., 1., 1., 1., 1., 1., 1., 1., 1., 1., 1., 1., 1.,\n",
       "        1., 1., 1., 1., 1., 1., 1., 1., 1., 1., 1., 1., 1., 1., 1., 1., 1.,\n",
       "        1., 1., 1., 1., 1., 1., 1., 1., 1., 1., 1., 1., 1., 1., 1., 1., 1.,\n",
       "        1., 1., 1., 1., 1., 1., 1., 1., 1., 1., 1., 1., 1., 1., 1., 1., 1.,\n",
       "        1., 1., 1., 1., 1., 1., 1., 1., 1., 1., 1., 1., 1., 1., 1., 1., 1.,\n",
       "        1., 1., 1., 1., 1., 1., 1., 1., 1.])}"
      ]
     },
     "execution_count": 72,
     "metadata": {},
     "output_type": "execute_result"
    }
   ],
   "source": [
    "circle_source.data"
   ]
  },
  {
   "cell_type": "code",
   "execution_count": 76,
   "metadata": {},
   "outputs": [
    {
     "data": {
      "text/plain": [
       "0      1026.0\n",
       "1       584.0\n",
       "2      2718.0\n",
       "3       717.0\n",
       "4        24.0\n",
       "        ...  \n",
       "259       1.0\n",
       "260       4.0\n",
       "261       6.0\n",
       "262       4.0\n",
       "263       1.0\n",
       "Name: 4/20/20, Length: 264, dtype: float64"
      ]
     },
     "execution_count": 76,
     "metadata": {},
     "output_type": "execute_result"
    }
   ],
   "source": [
    "np.ones(len(df))*df[df.columns[-1]]"
   ]
  },
  {
   "cell_type": "code",
   "execution_count": 130,
   "metadata": {},
   "outputs": [],
   "source": [
    " from pyproj import CRS\n",
    "\n",
    "inProj = CRS(\"WGS84\")\n",
    "outProj =CRS(\"EPSG:3857\")\n",
    "#outProj = pyproj.Proj(init=\"EPSG:3857\")"
   ]
  },
  {
   "cell_type": "code",
   "execution_count": 129,
   "metadata": {},
   "outputs": [
    {
     "data": {
      "text/plain": [
       "<Projected CRS: EPSG:3857>\n",
       "Name: WGS 84 / Pseudo-Mercator\n",
       "Axis Info [cartesian]:\n",
       "- X[east]: Easting (metre)\n",
       "- Y[north]: Northing (metre)\n",
       "Area of Use:\n",
       "- name: World - 85°S to 85°N\n",
       "- bounds: (-180.0, -85.06, 180.0, 85.06)\n",
       "Coordinate Operation:\n",
       "- name: Popular Visualisation Pseudo-Mercator\n",
       "- method: Popular Visualisation Pseudo Mercator\n",
       "Datum: World Geodetic System 1984\n",
       "- Ellipsoid: WGS 84\n",
       "- Prime Meridian: Greenwich"
      ]
     },
     "execution_count": 129,
     "metadata": {},
     "output_type": "execute_result"
    }
   ],
   "source": [
    "outProj"
   ]
  },
  {
   "cell_type": "code",
   "execution_count": 119,
   "metadata": {},
   "outputs": [],
   "source": [
    "from pyproj import Transformer\n",
    "transformer = Transformer.from_crs(\"epsg:4326\", \"epsg:3857\")\n"
   ]
  },
  {
   "cell_type": "code",
   "execution_count": 122,
   "metadata": {},
   "outputs": [
    {
     "data": {
      "text/plain": [
       "<Conversion Transformer: pipeline>\n",
       "Description: Popular Visualisation Pseudo-Mercator\n",
       "Area of Use:\n",
       "- name: World\n",
       "- bounds: (-180.0, -90.0, 180.0, 90.0)"
      ]
     },
     "execution_count": 122,
     "metadata": {},
     "output_type": "execute_result"
    }
   ],
   "source": [
    "transformer"
   ]
  },
  {
   "cell_type": "code",
   "execution_count": 121,
   "metadata": {},
   "outputs": [
    {
     "data": {
      "text/plain": [
       "(inf, inf)"
      ]
     },
     "execution_count": 121,
     "metadata": {},
     "output_type": "execute_result"
    }
   ],
   "source": [
    "transformer.transform(120,10)"
   ]
  },
  {
   "cell_type": "code",
   "execution_count": 103,
   "metadata": {},
   "outputs": [
    {
     "data": {
      "text/plain": [
       "Proj('+proj=longlat +datum=WGS84 +no_defs', preserve_units=True)"
      ]
     },
     "execution_count": 103,
     "metadata": {},
     "output_type": "execute_result"
    }
   ],
   "source": [
    "inProj"
   ]
  },
  {
   "cell_type": "code",
   "execution_count": 99,
   "metadata": {},
   "outputs": [],
   "source": [
    "inProj = pyproj.Proj(\"epsg:4326\")\n",
    "outProj = pyproj.Proj(\"epsg:3857\")"
   ]
  },
  {
   "cell_type": "code",
   "execution_count": 101,
   "metadata": {},
   "outputs": [
    {
     "data": {
      "text/plain": [
       "(inf, inf)"
      ]
     },
     "execution_count": 101,
     "metadata": {},
     "output_type": "execute_result"
    }
   ],
   "source": [
    "pyproj.transform(inProj,outProj,170,40)"
   ]
  },
  {
   "cell_type": "code",
   "execution_count": 11,
   "metadata": {},
   "outputs": [],
   "source": [
    "l_test = ['Germany_confirmed_total_raw','Germany_confirmed_delta_raw', 'x']"
   ]
  },
  {
   "cell_type": "code",
   "execution_count": 12,
   "metadata": {},
   "outputs": [
    {
     "data": {
      "text/plain": [
       "['Germany_confirmed_total_raw', 'x']"
      ]
     },
     "execution_count": 12,
     "metadata": {},
     "output_type": "execute_result"
    }
   ],
   "source": [
    "[x for x in l_test if 'total' in x or 'x' in x]"
   ]
  },
  {
   "cell_type": "code",
   "execution_count": null,
   "metadata": {},
   "outputs": [],
   "source": []
  }
 ],
 "metadata": {
  "kernelspec": {
   "display_name": "Python 3",
   "language": "python",
   "name": "python3"
  },
  "language_info": {
   "codemirror_mode": {
    "name": "ipython",
    "version": 3
   },
   "file_extension": ".py",
   "mimetype": "text/x-python",
   "name": "python",
   "nbconvert_exporter": "python",
   "pygments_lexer": "ipython3",
   "version": "3.8.2"
  }
 },
 "nbformat": 4,
 "nbformat_minor": 4
}
